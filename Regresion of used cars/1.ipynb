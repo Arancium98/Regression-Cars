{
 "cells": [
  {
   "cell_type": "markdown",
   "metadata": {},
   "source": [
    "<a id=\"setup\"></a>\n",
    "# <p style=\"background-color: #ff6200; font-family:calibri; color:white; font-size:120%; font-family:Verdana; text-align:center; border-radius:15px 50px;\">Step 1 | Setup and Initialization</p>"
   ]
  },
  {
   "cell_type": "markdown",
   "metadata": {},
   "source": [
    "<div style=\"border-radius:10px; padding: 15px; font-size:100%; text-align:left\">\n",
    "\n",
    "<h2 align=\"left\"><font color=#ff6200>Libraries</font></h2>"
   ]
  },
  {
   "cell_type": "markdown",
   "metadata": {},
   "source": [
    "<div style=\"border-radius:10px; padding: 15px;font-size:100%; text-align:left\">\n",
    "\n",
    "<h2 align=\"left\"><font color=#ff6200>Dataset Description</font></h2>\n",
    "\n",
    "| __Variable__   | __Description__ |\n",
    "|     :---       |       :---      |      \n",
    "| __ID__  | The identifier. |\n",
    "| __brand__  | The brand of the car. |\n",
    "| __model__| The model of the car. |\n",
    "| __model_year__   | The year of the model. |\n",
    "| __milage__| How many miles the car have. |\n",
    "| __fuel_type__  | The type of fuel. |\n",
    "| __engine__ | Engine details. |\n",
    "| __transmission__    |Transmission details. |\n",
    "| __ext_col__    | Exterior color. |\n",
    "| __int_col__    | Interior color. |\n",
    "| __accident__    | The car has an accident. (1 if yes) |\n",
    "| __clean_title__    | Clean Tittle. |\n",
    "| __price__    | The price of car. (Target Variable) |\n"
   ]
  },
  {
   "cell_type": "code",
   "execution_count": 1,
   "metadata": {},
   "outputs": [],
   "source": [
    "import polars as pl\n",
    "import polars.selectors as cs"
   ]
  },
  {
   "cell_type": "code",
   "execution_count": 2,
   "metadata": {},
   "outputs": [],
   "source": [
    "df = (\n",
    "    pl.read_csv(\"train.csv\")\n",
    ")"
   ]
  },
  {
   "cell_type": "markdown",
   "metadata": {},
   "source": [
    "<a id=\"setup\"></a>\n",
    "# <p style=\"background-color: #ff6200; font-family:calibri; color:white; font-size:120%; font-family:Verdana; text-align:center; border-radius:15px 50px;\">Step 2 | EDA</p>\n"
   ]
  },
  {
   "cell_type": "markdown",
   "metadata": {},
   "source": [
    "<div style=\"border-radius:10px; padding: 15px; background-color: #ffeacc; font-size:100%; text-align:left\">\n",
    "Lets do an Exploratory Data Analysis (EDA) over the dataset to get a better understanding.    \n",
    "</div>\n"
   ]
  },
  {
   "cell_type": "code",
   "execution_count": 3,
   "metadata": {},
   "outputs": [
    {
     "data": {
      "text/html": [
       "<div><style>\n",
       ".dataframe > thead > tr,\n",
       ".dataframe > tbody > tr {\n",
       "  text-align: right;\n",
       "  white-space: pre-wrap;\n",
       "}\n",
       "</style>\n",
       "<small>shape: (5, 13)</small><table border=\"1\" class=\"dataframe\"><thead><tr><th>id</th><th>brand</th><th>model</th><th>model_year</th><th>milage</th><th>fuel_type</th><th>engine</th><th>transmission</th><th>ext_col</th><th>int_col</th><th>accident</th><th>clean_title</th><th>price</th></tr><tr><td>i64</td><td>str</td><td>str</td><td>i64</td><td>i64</td><td>str</td><td>str</td><td>str</td><td>str</td><td>str</td><td>str</td><td>str</td><td>i64</td></tr></thead><tbody><tr><td>0</td><td>&quot;MINI&quot;</td><td>&quot;Cooper S Base&quot;</td><td>2007</td><td>213000</td><td>&quot;Gasoline&quot;</td><td>&quot;172.0HP 1.6L 4 Cylinder Engine…</td><td>&quot;A/T&quot;</td><td>&quot;Yellow&quot;</td><td>&quot;Gray&quot;</td><td>&quot;None reported&quot;</td><td>&quot;Yes&quot;</td><td>4200</td></tr><tr><td>1</td><td>&quot;Lincoln&quot;</td><td>&quot;LS V8&quot;</td><td>2002</td><td>143250</td><td>&quot;Gasoline&quot;</td><td>&quot;252.0HP 3.9L 8 Cylinder Engine…</td><td>&quot;A/T&quot;</td><td>&quot;Silver&quot;</td><td>&quot;Beige&quot;</td><td>&quot;At least 1 accident or damage …</td><td>&quot;Yes&quot;</td><td>4999</td></tr><tr><td>2</td><td>&quot;Chevrolet&quot;</td><td>&quot;Silverado 2500 LT&quot;</td><td>2002</td><td>136731</td><td>&quot;E85 Flex Fuel&quot;</td><td>&quot;320.0HP 5.3L 8 Cylinder Engine…</td><td>&quot;A/T&quot;</td><td>&quot;Blue&quot;</td><td>&quot;Gray&quot;</td><td>&quot;None reported&quot;</td><td>&quot;Yes&quot;</td><td>13900</td></tr><tr><td>3</td><td>&quot;Genesis&quot;</td><td>&quot;G90 5.0 Ultimate&quot;</td><td>2017</td><td>19500</td><td>&quot;Gasoline&quot;</td><td>&quot;420.0HP 5.0L 8 Cylinder Engine…</td><td>&quot;Transmission w/Dual Shift Mode&quot;</td><td>&quot;Black&quot;</td><td>&quot;Black&quot;</td><td>&quot;None reported&quot;</td><td>&quot;Yes&quot;</td><td>45000</td></tr><tr><td>4</td><td>&quot;Mercedes-Benz&quot;</td><td>&quot;Metris Base&quot;</td><td>2021</td><td>7388</td><td>&quot;Gasoline&quot;</td><td>&quot;208.0HP 2.0L 4 Cylinder Engine…</td><td>&quot;7-Speed A/T&quot;</td><td>&quot;Black&quot;</td><td>&quot;Beige&quot;</td><td>&quot;None reported&quot;</td><td>&quot;Yes&quot;</td><td>97500</td></tr></tbody></table></div>"
      ],
      "text/plain": [
       "shape: (5, 13)\n",
       "┌─────┬──────────────┬──────────────┬────────────┬───┬─────────┬─────────────┬─────────────┬───────┐\n",
       "│ id  ┆ brand        ┆ model        ┆ model_year ┆ … ┆ int_col ┆ accident    ┆ clean_title ┆ price │\n",
       "│ --- ┆ ---          ┆ ---          ┆ ---        ┆   ┆ ---     ┆ ---         ┆ ---         ┆ ---   │\n",
       "│ i64 ┆ str          ┆ str          ┆ i64        ┆   ┆ str     ┆ str         ┆ str         ┆ i64   │\n",
       "╞═════╪══════════════╪══════════════╪════════════╪═══╪═════════╪═════════════╪═════════════╪═══════╡\n",
       "│ 0   ┆ MINI         ┆ Cooper S     ┆ 2007       ┆ … ┆ Gray    ┆ None        ┆ Yes         ┆ 4200  │\n",
       "│     ┆              ┆ Base         ┆            ┆   ┆         ┆ reported    ┆             ┆       │\n",
       "│ 1   ┆ Lincoln      ┆ LS V8        ┆ 2002       ┆ … ┆ Beige   ┆ At least 1  ┆ Yes         ┆ 4999  │\n",
       "│     ┆              ┆              ┆            ┆   ┆         ┆ accident or ┆             ┆       │\n",
       "│     ┆              ┆              ┆            ┆   ┆         ┆ damage …    ┆             ┆       │\n",
       "│ 2   ┆ Chevrolet    ┆ Silverado    ┆ 2002       ┆ … ┆ Gray    ┆ None        ┆ Yes         ┆ 13900 │\n",
       "│     ┆              ┆ 2500 LT      ┆            ┆   ┆         ┆ reported    ┆             ┆       │\n",
       "│ 3   ┆ Genesis      ┆ G90 5.0      ┆ 2017       ┆ … ┆ Black   ┆ None        ┆ Yes         ┆ 45000 │\n",
       "│     ┆              ┆ Ultimate     ┆            ┆   ┆         ┆ reported    ┆             ┆       │\n",
       "│ 4   ┆ Mercedes-Ben ┆ Metris Base  ┆ 2021       ┆ … ┆ Beige   ┆ None        ┆ Yes         ┆ 97500 │\n",
       "│     ┆ z            ┆              ┆            ┆   ┆         ┆ reported    ┆             ┆       │\n",
       "└─────┴──────────────┴──────────────┴────────────┴───┴─────────┴─────────────┴─────────────┴───────┘"
      ]
     },
     "execution_count": 3,
     "metadata": {},
     "output_type": "execute_result"
    }
   ],
   "source": [
    "df.head()"
   ]
  },
  {
   "cell_type": "markdown",
   "metadata": {},
   "source": [
    "<div style=\"border-radius:10px; padding: 15px; font-size:100%; text-align:left\">\n",
    "\n",
    "<h2 align=\"left\"><font color=#ff6200>String Variables</font></h2>"
   ]
  },
  {
   "cell_type": "code",
   "execution_count": 4,
   "metadata": {},
   "outputs": [
    {
     "data": {
      "text/html": [
       "<div><style>\n",
       ".dataframe > thead > tr,\n",
       ".dataframe > tbody > tr {\n",
       "  text-align: right;\n",
       "  white-space: pre-wrap;\n",
       "}\n",
       "</style>\n",
       "<small>shape: (5, 9)</small><table border=\"1\" class=\"dataframe\"><thead><tr><th>brand</th><th>model</th><th>fuel_type</th><th>engine</th><th>transmission</th><th>ext_col</th><th>int_col</th><th>accident</th><th>clean_title</th></tr><tr><td>str</td><td>str</td><td>str</td><td>str</td><td>str</td><td>str</td><td>str</td><td>str</td><td>str</td></tr></thead><tbody><tr><td>&quot;MINI&quot;</td><td>&quot;Cooper S Base&quot;</td><td>&quot;Gasoline&quot;</td><td>&quot;172.0HP 1.6L 4 Cylinder Engine…</td><td>&quot;A/T&quot;</td><td>&quot;Yellow&quot;</td><td>&quot;Gray&quot;</td><td>&quot;None reported&quot;</td><td>&quot;Yes&quot;</td></tr><tr><td>&quot;Lincoln&quot;</td><td>&quot;LS V8&quot;</td><td>&quot;Gasoline&quot;</td><td>&quot;252.0HP 3.9L 8 Cylinder Engine…</td><td>&quot;A/T&quot;</td><td>&quot;Silver&quot;</td><td>&quot;Beige&quot;</td><td>&quot;At least 1 accident or damage …</td><td>&quot;Yes&quot;</td></tr><tr><td>&quot;Chevrolet&quot;</td><td>&quot;Silverado 2500 LT&quot;</td><td>&quot;E85 Flex Fuel&quot;</td><td>&quot;320.0HP 5.3L 8 Cylinder Engine…</td><td>&quot;A/T&quot;</td><td>&quot;Blue&quot;</td><td>&quot;Gray&quot;</td><td>&quot;None reported&quot;</td><td>&quot;Yes&quot;</td></tr><tr><td>&quot;Genesis&quot;</td><td>&quot;G90 5.0 Ultimate&quot;</td><td>&quot;Gasoline&quot;</td><td>&quot;420.0HP 5.0L 8 Cylinder Engine…</td><td>&quot;Transmission w/Dual Shift Mode&quot;</td><td>&quot;Black&quot;</td><td>&quot;Black&quot;</td><td>&quot;None reported&quot;</td><td>&quot;Yes&quot;</td></tr><tr><td>&quot;Mercedes-Benz&quot;</td><td>&quot;Metris Base&quot;</td><td>&quot;Gasoline&quot;</td><td>&quot;208.0HP 2.0L 4 Cylinder Engine…</td><td>&quot;7-Speed A/T&quot;</td><td>&quot;Black&quot;</td><td>&quot;Beige&quot;</td><td>&quot;None reported&quot;</td><td>&quot;Yes&quot;</td></tr></tbody></table></div>"
      ],
      "text/plain": [
       "shape: (5, 9)\n",
       "┌────────────┬────────────┬────────────┬───────────┬───┬─────────┬─────────┬───────────┬───────────┐\n",
       "│ brand      ┆ model      ┆ fuel_type  ┆ engine    ┆ … ┆ ext_col ┆ int_col ┆ accident  ┆ clean_tit │\n",
       "│ ---        ┆ ---        ┆ ---        ┆ ---       ┆   ┆ ---     ┆ ---     ┆ ---       ┆ le        │\n",
       "│ str        ┆ str        ┆ str        ┆ str       ┆   ┆ str     ┆ str     ┆ str       ┆ ---       │\n",
       "│            ┆            ┆            ┆           ┆   ┆         ┆         ┆           ┆ str       │\n",
       "╞════════════╪════════════╪════════════╪═══════════╪═══╪═════════╪═════════╪═══════════╪═══════════╡\n",
       "│ MINI       ┆ Cooper S   ┆ Gasoline   ┆ 172.0HP   ┆ … ┆ Yellow  ┆ Gray    ┆ None      ┆ Yes       │\n",
       "│            ┆ Base       ┆            ┆ 1.6L 4    ┆   ┆         ┆         ┆ reported  ┆           │\n",
       "│            ┆            ┆            ┆ Cylinder  ┆   ┆         ┆         ┆           ┆           │\n",
       "│            ┆            ┆            ┆ Engine…   ┆   ┆         ┆         ┆           ┆           │\n",
       "│ Lincoln    ┆ LS V8      ┆ Gasoline   ┆ 252.0HP   ┆ … ┆ Silver  ┆ Beige   ┆ At least  ┆ Yes       │\n",
       "│            ┆            ┆            ┆ 3.9L 8    ┆   ┆         ┆         ┆ 1         ┆           │\n",
       "│            ┆            ┆            ┆ Cylinder  ┆   ┆         ┆         ┆ accident  ┆           │\n",
       "│            ┆            ┆            ┆ Engine…   ┆   ┆         ┆         ┆ or damage ┆           │\n",
       "│            ┆            ┆            ┆           ┆   ┆         ┆         ┆ …         ┆           │\n",
       "│ Chevrolet  ┆ Silverado  ┆ E85 Flex   ┆ 320.0HP   ┆ … ┆ Blue    ┆ Gray    ┆ None      ┆ Yes       │\n",
       "│            ┆ 2500 LT    ┆ Fuel       ┆ 5.3L 8    ┆   ┆         ┆         ┆ reported  ┆           │\n",
       "│            ┆            ┆            ┆ Cylinder  ┆   ┆         ┆         ┆           ┆           │\n",
       "│            ┆            ┆            ┆ Engine…   ┆   ┆         ┆         ┆           ┆           │\n",
       "│ Genesis    ┆ G90 5.0    ┆ Gasoline   ┆ 420.0HP   ┆ … ┆ Black   ┆ Black   ┆ None      ┆ Yes       │\n",
       "│            ┆ Ultimate   ┆            ┆ 5.0L 8    ┆   ┆         ┆         ┆ reported  ┆           │\n",
       "│            ┆            ┆            ┆ Cylinder  ┆   ┆         ┆         ┆           ┆           │\n",
       "│            ┆            ┆            ┆ Engine…   ┆   ┆         ┆         ┆           ┆           │\n",
       "│ Mercedes-B ┆ Metris     ┆ Gasoline   ┆ 208.0HP   ┆ … ┆ Black   ┆ Beige   ┆ None      ┆ Yes       │\n",
       "│ enz        ┆ Base       ┆            ┆ 2.0L 4    ┆   ┆         ┆         ┆ reported  ┆           │\n",
       "│            ┆            ┆            ┆ Cylinder  ┆   ┆         ┆         ┆           ┆           │\n",
       "│            ┆            ┆            ┆ Engine…   ┆   ┆         ┆         ┆           ┆           │\n",
       "└────────────┴────────────┴────────────┴───────────┴───┴─────────┴─────────┴───────────┴───────────┘"
      ]
     },
     "execution_count": 4,
     "metadata": {},
     "output_type": "execute_result"
    }
   ],
   "source": [
    "(\n",
    "    df.select(cs.by_dtype(pl.String))\n",
    "    .head(5)\n",
    ")"
   ]
  },
  {
   "cell_type": "code",
   "execution_count": 5,
   "metadata": {},
   "outputs": [
    {
     "data": {
      "text/html": [
       "<div><style>\n",
       ".dataframe > thead > tr,\n",
       ".dataframe > tbody > tr {\n",
       "  text-align: right;\n",
       "  white-space: pre-wrap;\n",
       "}\n",
       "</style>\n",
       "<small>shape: (9, 3)</small><table border=\"1\" class=\"dataframe\"><thead><tr><th>column</th><th>Null_Values</th><th>Unique_Values</th></tr><tr><td>str</td><td>f64</td><td>u32</td></tr></thead><tbody><tr><td>&quot;engine&quot;</td><td>0.0</td><td>1117</td></tr><tr><td>&quot;ext_col&quot;</td><td>0.0</td><td>319</td></tr><tr><td>&quot;transmission&quot;</td><td>0.0</td><td>52</td></tr><tr><td>&quot;fuel_type&quot;</td><td>2.69608</td><td>8</td></tr><tr><td>&quot;accident&quot;</td><td>1.300568</td><td>3</td></tr><tr><td>&quot;int_col&quot;</td><td>0.0</td><td>156</td></tr><tr><td>&quot;brand&quot;</td><td>0.0</td><td>57</td></tr><tr><td>&quot;model&quot;</td><td>0.0</td><td>1897</td></tr><tr><td>&quot;clean_title&quot;</td><td>11.360876</td><td>2</td></tr></tbody></table></div>"
      ],
      "text/plain": [
       "shape: (9, 3)\n",
       "┌──────────────┬─────────────┬───────────────┐\n",
       "│ column       ┆ Null_Values ┆ Unique_Values │\n",
       "│ ---          ┆ ---         ┆ ---           │\n",
       "│ str          ┆ f64         ┆ u32           │\n",
       "╞══════════════╪═════════════╪═══════════════╡\n",
       "│ engine       ┆ 0.0         ┆ 1117          │\n",
       "│ ext_col      ┆ 0.0         ┆ 319           │\n",
       "│ transmission ┆ 0.0         ┆ 52            │\n",
       "│ fuel_type    ┆ 2.69608     ┆ 8             │\n",
       "│ accident     ┆ 1.300568    ┆ 3             │\n",
       "│ int_col      ┆ 0.0         ┆ 156           │\n",
       "│ brand        ┆ 0.0         ┆ 57            │\n",
       "│ model        ┆ 0.0         ┆ 1897          │\n",
       "│ clean_title  ┆ 11.360876   ┆ 2             │\n",
       "└──────────────┴─────────────┴───────────────┘"
      ]
     },
     "execution_count": 5,
     "metadata": {},
     "output_type": "execute_result"
    }
   ],
   "source": [
    "(\n",
    "    df\n",
    "    .select(cs.by_dtype(pl.String))\n",
    "    .unpivot(variable_name=\"column\")\n",
    "    .group_by(\"column\")\n",
    "    .agg(\n",
    "        Null_Values = (pl.col.value.is_null().sum() / pl.col.value.len()) * 100,\n",
    "        Unique_Values = (pl.col.value.n_unique())\n",
    "    )\n",
    ")"
   ]
  },
  {
   "cell_type": "markdown",
   "metadata": {},
   "source": [
    "<div style=\"border-radius: 15px; padding: 20px; background-color: #ffeacc; font-size: 100%; text-align: left; border: 2px solid #ff6200; box-shadow: 0 4px 8px rgba(0, 0, 0, 0.1);\">\n",
    "    <h2 style=\"font-family: Arial, sans-serif; color: #ff6200; margin-bottom: 10px;\">String Variables</h2>\n",
    "    <ul style=\"font-family: Arial, sans-serif; line-height: 1.8; color: #333; padding-left: 20px;\">\n",
    "        <li><strong>Missing Values:</strong> Missing data is found in 3 variables: <em>\"fuel_type\"</em> (2.69%), <em>\"clean_title\"</em> (11.3%), and <em>\"accident\"</em> (1.3%). The <em>\"clean_title\"</em> variable has a significant portion of missing values, which I will address later in the process.\n",
    "        </li>\n",
    "        <li><strong>Unique Values:</strong> The dataset contains a high number of unique values, particularly in the <em>\"model\"</em> column, with 1,897 distinct entries.</li>        \n",
    "        <li><strong>Brand:</strong> There are 57 different car brands in the dataset. I will categorize these into broader groups such as luxury cars, premium cars, mainstream brands, and others.</li>\n",
    "        <li><strong>Fuel Type:</strong> The <em>\"fuel_type\"</em> column has 8 different values. To simplify the analysis, I will condense these into 5 categories: 1) Diesel, 2) Hybrid, 3) Electric, 4) Gasoline, and 5) Other.</li>\n",
    "        <li><strong>Interior and Exterior Color:</strong> Although there are many color options, I will focus on the base colors and create a new column labeled \"Special Color\" to flag any unique color variations.</li>\n",
    "        <li><strong>Engine:</strong> The <em>\"engine\"</em> column contains valuable information such as horsepower (HP), engine displacement (liters), and cylinder count.</li>\n",
    "        <li><strong>Transmission:</strong> The <em>\"transmission\"</em> column provides interesting details. I will perform additional data wrangling to extract and organize the key information from this column.</li>\n",
    "        <li><strong>Model:</strong> The <em>\"Model\"</em> column have multiple values, so on this first go, i'm going to ignore it.</li>\n",
    "    </ul>\n",
    "</div>\n"
   ]
  },
  {
   "cell_type": "markdown",
   "metadata": {},
   "source": [
    "<div style=\"border-radius:10px; padding: 15px; font-size:100%; text-align:left\">\n",
    "<h3 align=\"left\"><font color=#ff6200>Brand</font></h3>\n",
    "</div>"
   ]
  },
  {
   "cell_type": "code",
   "execution_count": 6,
   "metadata": {},
   "outputs": [],
   "source": [
    "# Brand\n",
    "Luxury_list = [\"Lambo\", \"Ferrari\", \"Bugatti\", \"Rolls-Royce\", \"Maserati\", \"McLaren\", \"Bentley\", \"Aston\", \"Lamborghini\", \"Maybach\"]\n",
    "Premium_list = [\"Mercedes-Benz\", \"Audi\", \"BMW\", \"Porsche\", \"MINI\", \"Cadillac\",\"Lexus\", \"Tesla\", \"INFINITI\",\n",
    "                \"Land\", \"Lincoln\", \"Volvo\", \"Acura\", \"Jeep\", \"Honda\", \"Chrysler\", \"Genesis\", \"Pontiac\", \"Jaguar\",\n",
    "                \"Hummer\", \"Alfa\", \"Dodge\", \"Subaru\", \"FIAT\"]\n",
    "Normal_list = [\"Toyota\", \"Nissan\", \"Volkswagen\", \"Hyundai\", \"Kia\", \"Chevrolet\", \"Ford\", \"GMC\", \"Mazda\", \"RAM\", \"Mitsubishi\", \"Suzuki\"]\n",
    "\n",
    "\n",
    "def set_brand(brand_col: pl.Expr) -> pl.Expr:\n",
    "    return (\n",
    "        pl.when(brand_col.is_in(Luxury_list)).then(3)\n",
    "        .when(brand_col.is_in(Premium_list)).then(2)\n",
    "        .when(brand_col.is_in(Normal_list)).then(1)\n",
    "        .otherwise(0)\n",
    "        .alias(\"Brand Type\")\n",
    "    )\n"
   ]
  },
  {
   "cell_type": "markdown",
   "metadata": {},
   "source": [
    "<div style=\"border-radius:10px; padding: 15px; font-size:100%; text-align:left\">\n",
    "<h3 align=\"left\"><font color=#ff6200>Fuel</font></h3>\n",
    "</div>"
   ]
  },
  {
   "cell_type": "code",
   "execution_count": 7,
   "metadata": {},
   "outputs": [],
   "source": [
    "def set_fuel_type(fuel_type_col: pl.Expr) -> pl.Expr:\n",
    "    return (\n",
    "        pl.when(fuel_type_col.is_in([\"E85 Flex Fuel\", \"Gasoline\"])).then(1)\n",
    "        .when(fuel_type_col == \"Diesel\").then(2)\n",
    "        .when(fuel_type_col.is_in([ \"Hybrid\",\"Plug-In Hybrid\" ])).then(3)\n",
    "        .when(fuel_type_col.is_in([ \"not supported\"])).then(4)\n",
    "        .when(fuel_type_col.is_in([\"–\"])).then(5)\n",
    "        .otherwise(6)\n",
    "        .alias(\"Fuel Type\")\n",
    "    )"
   ]
  },
  {
   "cell_type": "markdown",
   "metadata": {},
   "source": [
    "<div style=\"border-radius:10px; padding: 15px; font-size:100%; text-align:left\">\n",
    "<h3 align=\"left\"><font color=#ff6200>Engine</font></h3>\n",
    "</div>"
   ]
  },
  {
   "cell_type": "code",
   "execution_count": 20,
   "metadata": {},
   "outputs": [],
   "source": [
    "def get_engine(engine_col: pl.Expr) -> pl.Expr:\n",
    "    return (\n",
    "        pl.col(\"engine\").str.extract(r'(\\d+)\\.\\d+HP',1).alias(\"HP\"),\n",
    "        pl.col(\"engine\").str.extract(r'(\\d+\\.\\d+)L',1).alias(\"Displacement\"),\n",
    "        pl.col(\"engine\").str.extract(r'(\\d+)\\sCylinder',1).alias(\"Cylinder\"),\n",
    "        pl.col(\"engine\").str.contains(\"Electric\").alias(\"Electric\")\n",
    "    )"
   ]
  },
  {
   "cell_type": "code",
   "execution_count": 21,
   "metadata": {},
   "outputs": [
    {
     "data": {
      "text/html": [
       "<div><style>\n",
       ".dataframe > thead > tr,\n",
       ".dataframe > tbody > tr {\n",
       "  text-align: right;\n",
       "  white-space: pre-wrap;\n",
       "}\n",
       "</style>\n",
       "<small>shape: (188_533, 17)</small><table border=\"1\" class=\"dataframe\"><thead><tr><th>id</th><th>brand</th><th>model</th><th>model_year</th><th>milage</th><th>fuel_type</th><th>engine</th><th>transmission</th><th>ext_col</th><th>int_col</th><th>accident</th><th>clean_title</th><th>price</th><th>HP</th><th>Displacement</th><th>Cylinder</th><th>Electric</th></tr><tr><td>i64</td><td>str</td><td>str</td><td>i64</td><td>i64</td><td>str</td><td>str</td><td>str</td><td>str</td><td>str</td><td>str</td><td>str</td><td>i64</td><td>str</td><td>str</td><td>str</td><td>bool</td></tr></thead><tbody><tr><td>0</td><td>&quot;MINI&quot;</td><td>&quot;Cooper S Base&quot;</td><td>2007</td><td>213000</td><td>&quot;Gasoline&quot;</td><td>&quot;172.0HP 1.6L 4 Cylinder Engine…</td><td>&quot;A/T&quot;</td><td>&quot;Yellow&quot;</td><td>&quot;Gray&quot;</td><td>&quot;None reported&quot;</td><td>&quot;Yes&quot;</td><td>4200</td><td>&quot;172&quot;</td><td>&quot;1.6&quot;</td><td>&quot;4&quot;</td><td>false</td></tr><tr><td>1</td><td>&quot;Lincoln&quot;</td><td>&quot;LS V8&quot;</td><td>2002</td><td>143250</td><td>&quot;Gasoline&quot;</td><td>&quot;252.0HP 3.9L 8 Cylinder Engine…</td><td>&quot;A/T&quot;</td><td>&quot;Silver&quot;</td><td>&quot;Beige&quot;</td><td>&quot;At least 1 accident or damage …</td><td>&quot;Yes&quot;</td><td>4999</td><td>&quot;252&quot;</td><td>&quot;3.9&quot;</td><td>&quot;8&quot;</td><td>false</td></tr><tr><td>2</td><td>&quot;Chevrolet&quot;</td><td>&quot;Silverado 2500 LT&quot;</td><td>2002</td><td>136731</td><td>&quot;E85 Flex Fuel&quot;</td><td>&quot;320.0HP 5.3L 8 Cylinder Engine…</td><td>&quot;A/T&quot;</td><td>&quot;Blue&quot;</td><td>&quot;Gray&quot;</td><td>&quot;None reported&quot;</td><td>&quot;Yes&quot;</td><td>13900</td><td>&quot;320&quot;</td><td>&quot;5.3&quot;</td><td>&quot;8&quot;</td><td>false</td></tr><tr><td>3</td><td>&quot;Genesis&quot;</td><td>&quot;G90 5.0 Ultimate&quot;</td><td>2017</td><td>19500</td><td>&quot;Gasoline&quot;</td><td>&quot;420.0HP 5.0L 8 Cylinder Engine…</td><td>&quot;Transmission w/Dual Shift Mode&quot;</td><td>&quot;Black&quot;</td><td>&quot;Black&quot;</td><td>&quot;None reported&quot;</td><td>&quot;Yes&quot;</td><td>45000</td><td>&quot;420&quot;</td><td>&quot;5.0&quot;</td><td>&quot;8&quot;</td><td>false</td></tr><tr><td>4</td><td>&quot;Mercedes-Benz&quot;</td><td>&quot;Metris Base&quot;</td><td>2021</td><td>7388</td><td>&quot;Gasoline&quot;</td><td>&quot;208.0HP 2.0L 4 Cylinder Engine…</td><td>&quot;7-Speed A/T&quot;</td><td>&quot;Black&quot;</td><td>&quot;Beige&quot;</td><td>&quot;None reported&quot;</td><td>&quot;Yes&quot;</td><td>97500</td><td>&quot;208&quot;</td><td>&quot;2.0&quot;</td><td>&quot;4&quot;</td><td>false</td></tr><tr><td>&hellip;</td><td>&hellip;</td><td>&hellip;</td><td>&hellip;</td><td>&hellip;</td><td>&hellip;</td><td>&hellip;</td><td>&hellip;</td><td>&hellip;</td><td>&hellip;</td><td>&hellip;</td><td>&hellip;</td><td>&hellip;</td><td>&hellip;</td><td>&hellip;</td><td>&hellip;</td><td>&hellip;</td></tr><tr><td>188528</td><td>&quot;Cadillac&quot;</td><td>&quot;Escalade ESV Platinum&quot;</td><td>2017</td><td>49000</td><td>&quot;Gasoline&quot;</td><td>&quot;420.0HP 6.2L 8 Cylinder Engine…</td><td>&quot;Transmission w/Dual Shift Mode&quot;</td><td>&quot;White&quot;</td><td>&quot;Beige&quot;</td><td>&quot;None reported&quot;</td><td>&quot;Yes&quot;</td><td>27500</td><td>&quot;420&quot;</td><td>&quot;6.2&quot;</td><td>&quot;8&quot;</td><td>false</td></tr><tr><td>188529</td><td>&quot;Mercedes-Benz&quot;</td><td>&quot;AMG C 43 AMG C 43 4MATIC&quot;</td><td>2018</td><td>28600</td><td>&quot;Gasoline&quot;</td><td>&quot;385.0HP 3.0L V6 Cylinder Engin…</td><td>&quot;8-Speed A/T&quot;</td><td>&quot;White&quot;</td><td>&quot;Black&quot;</td><td>&quot;At least 1 accident or damage …</td><td>&quot;Yes&quot;</td><td>30000</td><td>&quot;385&quot;</td><td>&quot;3.0&quot;</td><td>&quot;6&quot;</td><td>false</td></tr><tr><td>188530</td><td>&quot;Mercedes-Benz&quot;</td><td>&quot;AMG GLC 63 Base 4MATIC&quot;</td><td>2021</td><td>13650</td><td>&quot;Gasoline&quot;</td><td>&quot;469.0HP 4.0L 8 Cylinder Engine…</td><td>&quot;7-Speed A/T&quot;</td><td>&quot;White&quot;</td><td>&quot;Black&quot;</td><td>&quot;None reported&quot;</td><td>&quot;Yes&quot;</td><td>86900</td><td>&quot;469&quot;</td><td>&quot;4.0&quot;</td><td>&quot;8&quot;</td><td>false</td></tr><tr><td>188531</td><td>&quot;Audi&quot;</td><td>&quot;S5 3.0T Prestige&quot;</td><td>2022</td><td>13895</td><td>&quot;Gasoline&quot;</td><td>&quot;3.0L&quot;</td><td>&quot;1-Speed Automatic&quot;</td><td>&quot;Daytona Gray Pearl Effect&quot;</td><td>&quot;Black&quot;</td><td>&quot;None reported&quot;</td><td>null</td><td>84900</td><td>null</td><td>&quot;3.0&quot;</td><td>null</td><td>false</td></tr><tr><td>188532</td><td>&quot;Porsche&quot;</td><td>&quot;Macan Base&quot;</td><td>2016</td><td>59500</td><td>&quot;Gasoline&quot;</td><td>&quot;252.0HP 2.0L 4 Cylinder Engine…</td><td>&quot;Transmission w/Dual Shift Mode&quot;</td><td>&quot;White&quot;</td><td>&quot;Black&quot;</td><td>&quot;None reported&quot;</td><td>&quot;Yes&quot;</td><td>28995</td><td>&quot;252&quot;</td><td>&quot;2.0&quot;</td><td>&quot;4&quot;</td><td>false</td></tr></tbody></table></div>"
      ],
      "text/plain": [
       "shape: (188_533, 17)\n",
       "┌────────┬──────────────┬──────────────┬────────────┬───┬──────┬─────────────┬──────────┬──────────┐\n",
       "│ id     ┆ brand        ┆ model        ┆ model_year ┆ … ┆ HP   ┆ Displacemen ┆ Cylinder ┆ Electric │\n",
       "│ ---    ┆ ---          ┆ ---          ┆ ---        ┆   ┆ ---  ┆ t           ┆ ---      ┆ ---      │\n",
       "│ i64    ┆ str          ┆ str          ┆ i64        ┆   ┆ str  ┆ ---         ┆ str      ┆ bool     │\n",
       "│        ┆              ┆              ┆            ┆   ┆      ┆ str         ┆          ┆          │\n",
       "╞════════╪══════════════╪══════════════╪════════════╪═══╪══════╪═════════════╪══════════╪══════════╡\n",
       "│ 0      ┆ MINI         ┆ Cooper S     ┆ 2007       ┆ … ┆ 172  ┆ 1.6         ┆ 4        ┆ false    │\n",
       "│        ┆              ┆ Base         ┆            ┆   ┆      ┆             ┆          ┆          │\n",
       "│ 1      ┆ Lincoln      ┆ LS V8        ┆ 2002       ┆ … ┆ 252  ┆ 3.9         ┆ 8        ┆ false    │\n",
       "│ 2      ┆ Chevrolet    ┆ Silverado    ┆ 2002       ┆ … ┆ 320  ┆ 5.3         ┆ 8        ┆ false    │\n",
       "│        ┆              ┆ 2500 LT      ┆            ┆   ┆      ┆             ┆          ┆          │\n",
       "│ 3      ┆ Genesis      ┆ G90 5.0      ┆ 2017       ┆ … ┆ 420  ┆ 5.0         ┆ 8        ┆ false    │\n",
       "│        ┆              ┆ Ultimate     ┆            ┆   ┆      ┆             ┆          ┆          │\n",
       "│ 4      ┆ Mercedes-Ben ┆ Metris Base  ┆ 2021       ┆ … ┆ 208  ┆ 2.0         ┆ 4        ┆ false    │\n",
       "│        ┆ z            ┆              ┆            ┆   ┆      ┆             ┆          ┆          │\n",
       "│ …      ┆ …            ┆ …            ┆ …          ┆ … ┆ …    ┆ …           ┆ …        ┆ …        │\n",
       "│ 188528 ┆ Cadillac     ┆ Escalade ESV ┆ 2017       ┆ … ┆ 420  ┆ 6.2         ┆ 8        ┆ false    │\n",
       "│        ┆              ┆ Platinum     ┆            ┆   ┆      ┆             ┆          ┆          │\n",
       "│ 188529 ┆ Mercedes-Ben ┆ AMG C 43 AMG ┆ 2018       ┆ … ┆ 385  ┆ 3.0         ┆ 6        ┆ false    │\n",
       "│        ┆ z            ┆ C 43 4MATIC  ┆            ┆   ┆      ┆             ┆          ┆          │\n",
       "│ 188530 ┆ Mercedes-Ben ┆ AMG GLC 63   ┆ 2021       ┆ … ┆ 469  ┆ 4.0         ┆ 8        ┆ false    │\n",
       "│        ┆ z            ┆ Base 4MATIC  ┆            ┆   ┆      ┆             ┆          ┆          │\n",
       "│ 188531 ┆ Audi         ┆ S5 3.0T      ┆ 2022       ┆ … ┆ null ┆ 3.0         ┆ null     ┆ false    │\n",
       "│        ┆              ┆ Prestige     ┆            ┆   ┆      ┆             ┆          ┆          │\n",
       "│ 188532 ┆ Porsche      ┆ Macan Base   ┆ 2016       ┆ … ┆ 252  ┆ 2.0         ┆ 4        ┆ false    │\n",
       "└────────┴──────────────┴──────────────┴────────────┴───┴──────┴─────────────┴──────────┴──────────┘"
      ]
     },
     "execution_count": 21,
     "metadata": {},
     "output_type": "execute_result"
    }
   ],
   "source": [
    "(\n",
    "    df\n",
    "    .with_columns(\n",
    "        get_engine(engine_col=pl.col(\"engine\"))\n",
    "    )\n",
    ")"
   ]
  },
  {
   "cell_type": "markdown",
   "metadata": {},
   "source": [
    "<div style=\"border-radius:10px; padding: 15px; font-size:100%; text-align:left\">\n",
    "<h3 align=\"left\"><font color=#ff6200>Color</font></h3>\n",
    "</div>"
   ]
  },
  {
   "cell_type": "code",
   "execution_count": 39,
   "metadata": {},
   "outputs": [
    {
     "data": {
      "text/html": [
       "<div><style>\n",
       ".dataframe > thead > tr,\n",
       ".dataframe > tbody > tr {\n",
       "  text-align: right;\n",
       "  white-space: pre-wrap;\n",
       "}\n",
       "</style>\n",
       "<small>shape: (24_521, 15)</small><table border=\"1\" class=\"dataframe\"><thead><tr><th>id</th><th>brand</th><th>model</th><th>model_year</th><th>milage</th><th>fuel_type</th><th>engine</th><th>transmission</th><th>ext_col</th><th>int_col</th><th>accident</th><th>clean_title</th><th>price</th><th>ext_color_f</th><th>int_col_f</th></tr><tr><td>i64</td><td>str</td><td>str</td><td>i64</td><td>i64</td><td>str</td><td>str</td><td>str</td><td>str</td><td>str</td><td>str</td><td>str</td><td>i64</td><td>str</td><td>str</td></tr></thead><tbody><tr><td>8</td><td>&quot;Ford&quot;</td><td>&quot;F-150 XLT&quot;</td><td>2020</td><td>38352</td><td>&quot;Gasoline&quot;</td><td>&quot;2.7L V6 24V PDI DOHC Twin Turb…</td><td>&quot;10-Speed Automatic&quot;</td><td>&quot;snowflake white pearl metallic&quot;</td><td>&quot;black&quot;</td><td>&quot;None reported&quot;</td><td>&quot;Yes&quot;</td><td>62890</td><td>&quot;white&quot;</td><td>&quot;black&quot;</td></tr><tr><td>20</td><td>&quot;Land&quot;</td><td>&quot;Rover Defender S&quot;</td><td>2023</td><td>7978</td><td>&quot;Gasoline&quot;</td><td>&quot;5.2L V10 40V PDI DOHC&quot;</td><td>&quot;8-Speed Automatic&quot;</td><td>&quot;santorini black metallic&quot;</td><td>&quot;black&quot;</td><td>&quot;None reported&quot;</td><td>null</td><td>41998</td><td>&quot;black&quot;</td><td>&quot;black&quot;</td></tr><tr><td>27</td><td>&quot;Genesis&quot;</td><td>&quot;G90 5.0 Ultimate&quot;</td><td>2017</td><td>39000</td><td>&quot;Gasoline&quot;</td><td>&quot;420.0HP 5.0L 8 Cylinder Engine…</td><td>&quot;8-Speed A/T&quot;</td><td>&quot;purple&quot;</td><td>&quot;black&quot;</td><td>&quot;None reported&quot;</td><td>&quot;Yes&quot;</td><td>38000</td><td>null</td><td>&quot;black&quot;</td></tr><tr><td>39</td><td>&quot;Buick&quot;</td><td>&quot;Enclave Premium&quot;</td><td>2022</td><td>9642</td><td>&quot;Gasoline&quot;</td><td>&quot;3.6L V6 24V GDI DOHC&quot;</td><td>&quot;9-Speed Automatic&quot;</td><td>&quot;ebony twilight metallic&quot;</td><td>&quot;dark galvanized&quot;</td><td>&quot;None reported&quot;</td><td>&quot;Yes&quot;</td><td>63900</td><td>null</td><td>null</td></tr><tr><td>43</td><td>&quot;Mercedes-Benz&quot;</td><td>&quot;AMG GT 53 Base&quot;</td><td>2022</td><td>10972</td><td>&quot;Gasoline&quot;</td><td>&quot;4.0L V8 32V GDI DOHC Twin Turb…</td><td>&quot;8-Speed Automatic&quot;</td><td>&quot;magnetite black metallic&quot;</td><td>&quot;black&quot;</td><td>&quot;None reported&quot;</td><td>&quot;Yes&quot;</td><td>244896</td><td>&quot;black&quot;</td><td>&quot;black&quot;</td></tr><tr><td>&hellip;</td><td>&hellip;</td><td>&hellip;</td><td>&hellip;</td><td>&hellip;</td><td>&hellip;</td><td>&hellip;</td><td>&hellip;</td><td>&hellip;</td><td>&hellip;</td><td>&hellip;</td><td>&hellip;</td><td>&hellip;</td><td>&hellip;</td><td>&hellip;</td></tr><tr><td>188509</td><td>&quot;Ford&quot;</td><td>&quot;Explorer Platinum&quot;</td><td>2017</td><td>70891</td><td>&quot;Gasoline&quot;</td><td>&quot;3.5L V6 24V GDI DOHC Twin Turb…</td><td>&quot;10-Speed Automatic&quot;</td><td>&quot;iconic silver metallic&quot;</td><td>&quot;ebony&quot;</td><td>&quot;None reported&quot;</td><td>&quot;Yes&quot;</td><td>26950</td><td>&quot;silver&quot;</td><td>null</td></tr><tr><td>188511</td><td>&quot;Land&quot;</td><td>&quot;Rover Range Rover Velar P380 S…</td><td>2022</td><td>15198</td><td>&quot;Gasoline&quot;</td><td>&quot;2.0L I4 16V GDI DOHC Turbo&quot;</td><td>&quot;8-Speed Automatic&quot;</td><td>&quot;firenze red&quot;</td><td>&quot;ebony&quot;</td><td>&quot;None reported&quot;</td><td>null</td><td>23739</td><td>&quot;red&quot;</td><td>null</td></tr><tr><td>188513</td><td>&quot;Lexus&quot;</td><td>&quot;GS 350 F Sport&quot;</td><td>2022</td><td>82046</td><td>&quot;Gasoline&quot;</td><td>&quot;3.5L V6 24V PDI DOHC&quot;</td><td>&quot;8-Speed Automatic&quot;</td><td>&quot;caviar&quot;</td><td>&quot;black&quot;</td><td>&quot;None reported&quot;</td><td>null</td><td>48990</td><td>null</td><td>&quot;black&quot;</td></tr><tr><td>188515</td><td>&quot;GMC&quot;</td><td>&quot;Sierra 1500 Denali Ultimate&quot;</td><td>2023</td><td>9978</td><td>&quot;Gasoline&quot;</td><td>&quot;6.2L V8 16V GDI OHV&quot;</td><td>&quot;10-Speed A/T&quot;</td><td>&quot;white frost tri-coat&quot;</td><td>&quot;walnut&quot;</td><td>&quot;At least 1 accident or damage …</td><td>&quot;Yes&quot;</td><td>48999</td><td>&quot;white&quot;</td><td>null</td></tr><tr><td>188531</td><td>&quot;Audi&quot;</td><td>&quot;S5 3.0T Prestige&quot;</td><td>2022</td><td>13895</td><td>&quot;Gasoline&quot;</td><td>&quot;3.0L&quot;</td><td>&quot;1-Speed Automatic&quot;</td><td>&quot;daytona gray pearl effect&quot;</td><td>&quot;black&quot;</td><td>&quot;None reported&quot;</td><td>null</td><td>84900</td><td>&quot;gray&quot;</td><td>&quot;black&quot;</td></tr></tbody></table></div>"
      ],
      "text/plain": [
       "shape: (24_521, 15)\n",
       "┌────────┬────────────┬────────────┬────────────┬───┬────────────┬────────┬────────────┬───────────┐\n",
       "│ id     ┆ brand      ┆ model      ┆ model_year ┆ … ┆ clean_titl ┆ price  ┆ ext_color_ ┆ int_col_f │\n",
       "│ ---    ┆ ---        ┆ ---        ┆ ---        ┆   ┆ e          ┆ ---    ┆ f          ┆ ---       │\n",
       "│ i64    ┆ str        ┆ str        ┆ i64        ┆   ┆ ---        ┆ i64    ┆ ---        ┆ str       │\n",
       "│        ┆            ┆            ┆            ┆   ┆ str        ┆        ┆ str        ┆           │\n",
       "╞════════╪════════════╪════════════╪════════════╪═══╪════════════╪════════╪════════════╪═══════════╡\n",
       "│ 8      ┆ Ford       ┆ F-150 XLT  ┆ 2020       ┆ … ┆ Yes        ┆ 62890  ┆ white      ┆ black     │\n",
       "│ 20     ┆ Land       ┆ Rover      ┆ 2023       ┆ … ┆ null       ┆ 41998  ┆ black      ┆ black     │\n",
       "│        ┆            ┆ Defender S ┆            ┆   ┆            ┆        ┆            ┆           │\n",
       "│ 27     ┆ Genesis    ┆ G90 5.0    ┆ 2017       ┆ … ┆ Yes        ┆ 38000  ┆ null       ┆ black     │\n",
       "│        ┆            ┆ Ultimate   ┆            ┆   ┆            ┆        ┆            ┆           │\n",
       "│ 39     ┆ Buick      ┆ Enclave    ┆ 2022       ┆ … ┆ Yes        ┆ 63900  ┆ null       ┆ null      │\n",
       "│        ┆            ┆ Premium    ┆            ┆   ┆            ┆        ┆            ┆           │\n",
       "│ 43     ┆ Mercedes-B ┆ AMG GT 53  ┆ 2022       ┆ … ┆ Yes        ┆ 244896 ┆ black      ┆ black     │\n",
       "│        ┆ enz        ┆ Base       ┆            ┆   ┆            ┆        ┆            ┆           │\n",
       "│ …      ┆ …          ┆ …          ┆ …          ┆ … ┆ …          ┆ …      ┆ …          ┆ …         │\n",
       "│ 188509 ┆ Ford       ┆ Explorer   ┆ 2017       ┆ … ┆ Yes        ┆ 26950  ┆ silver     ┆ null      │\n",
       "│        ┆            ┆ Platinum   ┆            ┆   ┆            ┆        ┆            ┆           │\n",
       "│ 188511 ┆ Land       ┆ Rover      ┆ 2022       ┆ … ┆ null       ┆ 23739  ┆ red        ┆ null      │\n",
       "│        ┆            ┆ Range      ┆            ┆   ┆            ┆        ┆            ┆           │\n",
       "│        ┆            ┆ Rover      ┆            ┆   ┆            ┆        ┆            ┆           │\n",
       "│        ┆            ┆ Velar P380 ┆            ┆   ┆            ┆        ┆            ┆           │\n",
       "│        ┆            ┆ S…         ┆            ┆   ┆            ┆        ┆            ┆           │\n",
       "│ 188513 ┆ Lexus      ┆ GS 350 F   ┆ 2022       ┆ … ┆ null       ┆ 48990  ┆ null       ┆ black     │\n",
       "│        ┆            ┆ Sport      ┆            ┆   ┆            ┆        ┆            ┆           │\n",
       "│ 188515 ┆ GMC        ┆ Sierra     ┆ 2023       ┆ … ┆ Yes        ┆ 48999  ┆ white      ┆ null      │\n",
       "│        ┆            ┆ 1500       ┆            ┆   ┆            ┆        ┆            ┆           │\n",
       "│        ┆            ┆ Denali     ┆            ┆   ┆            ┆        ┆            ┆           │\n",
       "│        ┆            ┆ Ultimate   ┆            ┆   ┆            ┆        ┆            ┆           │\n",
       "│ 188531 ┆ Audi       ┆ S5 3.0T    ┆ 2022       ┆ … ┆ null       ┆ 84900  ┆ gray       ┆ black     │\n",
       "│        ┆            ┆ Prestige   ┆            ┆   ┆            ┆        ┆            ┆           │\n",
       "└────────┴────────────┴────────────┴────────────┴───┴────────────┴────────┴────────────┴───────────┘"
      ]
     },
     "execution_count": 39,
     "metadata": {},
     "output_type": "execute_result"
    }
   ],
   "source": [
    "color_list = [\"yellow\",\"white\", \"silver\", \"black\", \"blue\", \"gray\", \"red\", \"green\", \"beige\"]\n",
    "pattern = \"|\".join(color_list)\n",
    "\n",
    "(\n",
    "    df\n",
    "    .with_columns(\n",
    "        pl.col(\"ext_col\").str.strip_chars().str.to_lowercase(),\n",
    "        pl.col(\"int_col\").str.strip_chars().str.to_lowercase()\n",
    "    )\n",
    "    .with_columns(\n",
    "        pl.col(\"ext_col\").str.extract(f\"({pattern})\").alias(\"ext_color_f\"),\n",
    "        pl.col(\"int_col\").str.extract(f\"({pattern})\").alias(\"int_col_f\")\n",
    "    )\n",
    "    .filter(\n",
    "        ~pl.col(\"ext_col\").is_in(color_list)\n",
    "    )\n",
    "\n",
    ")\n"
   ]
  },
  {
   "cell_type": "code",
   "execution_count": 52,
   "metadata": {},
   "outputs": [
    {
     "data": {
      "text/html": [
       "<div><style>\n",
       ".dataframe > thead > tr,\n",
       ".dataframe > tbody > tr {\n",
       "  text-align: right;\n",
       "  white-space: pre-wrap;\n",
       "}\n",
       "</style>\n",
       "<small>shape: (3, 5)</small><table border=\"1\" class=\"dataframe\"><thead><tr><th>engine</th><th>HP</th><th>Displacement</th><th>Cylinder</th><th>Electric</th></tr><tr><td>str</td><td>str</td><td>str</td><td>str</td><td>bool</td></tr></thead><tbody><tr><td>&quot;172.0HP 1.6L 4 Cylinder Engine…</td><td>&quot;172&quot;</td><td>&quot;1.6&quot;</td><td>&quot;4&quot;</td><td>false</td></tr><tr><td>&quot;3.0L Twin Turbo&quot;</td><td>null</td><td>&quot;3.0&quot;</td><td>null</td><td>false</td></tr><tr><td>&quot;429.0HP 5.0L 8 Cylinder Engine…</td><td>&quot;429&quot;</td><td>&quot;5.0&quot;</td><td>&quot;8&quot;</td><td>false</td></tr></tbody></table></div>"
      ],
      "text/plain": [
       "shape: (3, 5)\n",
       "┌─────────────────────────────────┬──────┬──────────────┬──────────┬──────────┐\n",
       "│ engine                          ┆ HP   ┆ Displacement ┆ Cylinder ┆ Electric │\n",
       "│ ---                             ┆ ---  ┆ ---          ┆ ---      ┆ ---      │\n",
       "│ str                             ┆ str  ┆ str          ┆ str      ┆ bool     │\n",
       "╞═════════════════════════════════╪══════╪══════════════╪══════════╪══════════╡\n",
       "│ 172.0HP 1.6L 4 Cylinder Engine… ┆ 172  ┆ 1.6          ┆ 4        ┆ false    │\n",
       "│ 3.0L Twin Turbo                 ┆ null ┆ 3.0          ┆ null     ┆ false    │\n",
       "│ 429.0HP 5.0L 8 Cylinder Engine… ┆ 429  ┆ 5.0          ┆ 8        ┆ false    │\n",
       "└─────────────────────────────────┴──────┴──────────────┴──────────┴──────────┘"
      ]
     },
     "execution_count": 52,
     "metadata": {},
     "output_type": "execute_result"
    }
   ],
   "source": [
    "df = pl.DataFrame(\n",
    "    {\n",
    "        \"engine\": [\"172.0HP 1.6L 4 Cylinder Engine Gasoline Fuel\",\n",
    "                    \"3.0 Liter Twin Turbo\",\n",
    "                    \"429.0HP 5.0L 8 Cylinder Engine Gasoline Fuel\"],\n",
    "    }\n",
    ")\n",
    "\n",
    "(\n",
    "    df\n",
    "    .with_columns(\n",
    "        pl.col(\"engine\").str.replace(r'\\sLiter', \"L\")\n",
    "    )\n",
    "    .with_columns(\n",
    "        pl.col(\"engine\").str.extract(r'(\\d+)\\.\\d+HP',1).alias(\"HP\"),\n",
    "        pl.col(\"engine\").str.extract(r'(\\d+\\.\\d+)L',1).alias(\"Displacement\"),\n",
    "        pl.col(\"engine\").str.extract(r'(\\d+)\\sCylinder',1).alias(\"Cylinder\"),\n",
    "    )\n",
    ")\n",
    "\n",
    "def get_engine(engine_col: pl.Expr) -> pl.Expr:\n",
    "    return (\n",
    "        pl.col(\"engine\").str.extract(r'(\\d+)\\.\\d+HP',1).alias(\"HP\"),\n",
    "        pl.col(\"engine\").str.extract(r'(\\d+\\.\\d+)L',1).alias(\"Displacement\"),\n",
    "        pl.col(\"engine\").str.extract(r'(\\d+)\\sCylinder',1).alias(\"Cylinder\"),\n",
    "        pl.col(\"engine\").str.contains(\"Electric\").alias(\"Electric\")\n",
    "    )\n",
    "\n",
    "\n",
    "(\n",
    "    df\n",
    "    .with_columns(\n",
    "        pl.col(\"engine\").str.replace(r'\\sLiter', \"L\")\n",
    "    )\n",
    "    .with_columns(\n",
    "        get_engine(pl.col(\"engine\"))\n",
    "    )\n",
    ")"
   ]
  },
  {
   "cell_type": "code",
   "execution_count": 19,
   "metadata": {},
   "outputs": [
    {
     "data": {
      "text/html": [
       "<div><style>\n",
       ".dataframe > thead > tr,\n",
       ".dataframe > tbody > tr {\n",
       "  text-align: right;\n",
       "  white-space: pre-wrap;\n",
       "}\n",
       "</style>\n",
       "<small>shape: (188_533, 17)</small><table border=\"1\" class=\"dataframe\"><thead><tr><th>id</th><th>brand</th><th>model</th><th>model_year</th><th>milage</th><th>fuel_type</th><th>engine</th><th>transmission</th><th>ext_col</th><th>int_col</th><th>accident</th><th>clean_title</th><th>price</th><th>HP</th><th>Displacement</th><th>Cylinder</th><th>Electric</th></tr><tr><td>i64</td><td>str</td><td>str</td><td>i64</td><td>i64</td><td>str</td><td>str</td><td>str</td><td>str</td><td>str</td><td>str</td><td>str</td><td>i64</td><td>str</td><td>str</td><td>str</td><td>bool</td></tr></thead><tbody><tr><td>0</td><td>&quot;MINI&quot;</td><td>&quot;Cooper S Base&quot;</td><td>2007</td><td>213000</td><td>&quot;Gasoline&quot;</td><td>&quot;172.0HP 1.6L 4 Cylinder Engine…</td><td>&quot;A/T&quot;</td><td>&quot;Yellow&quot;</td><td>&quot;Gray&quot;</td><td>&quot;None reported&quot;</td><td>&quot;Yes&quot;</td><td>4200</td><td>&quot;172&quot;</td><td>&quot;1.6&quot;</td><td>&quot;4&quot;</td><td>false</td></tr><tr><td>1</td><td>&quot;Lincoln&quot;</td><td>&quot;LS V8&quot;</td><td>2002</td><td>143250</td><td>&quot;Gasoline&quot;</td><td>&quot;252.0HP 3.9L 8 Cylinder Engine…</td><td>&quot;A/T&quot;</td><td>&quot;Silver&quot;</td><td>&quot;Beige&quot;</td><td>&quot;At least 1 accident or damage …</td><td>&quot;Yes&quot;</td><td>4999</td><td>&quot;252&quot;</td><td>&quot;3.9&quot;</td><td>&quot;8&quot;</td><td>false</td></tr><tr><td>2</td><td>&quot;Chevrolet&quot;</td><td>&quot;Silverado 2500 LT&quot;</td><td>2002</td><td>136731</td><td>&quot;E85 Flex Fuel&quot;</td><td>&quot;320.0HP 5.3L 8 Cylinder Engine…</td><td>&quot;A/T&quot;</td><td>&quot;Blue&quot;</td><td>&quot;Gray&quot;</td><td>&quot;None reported&quot;</td><td>&quot;Yes&quot;</td><td>13900</td><td>&quot;320&quot;</td><td>&quot;5.3&quot;</td><td>&quot;8&quot;</td><td>false</td></tr><tr><td>3</td><td>&quot;Genesis&quot;</td><td>&quot;G90 5.0 Ultimate&quot;</td><td>2017</td><td>19500</td><td>&quot;Gasoline&quot;</td><td>&quot;420.0HP 5.0L 8 Cylinder Engine…</td><td>&quot;Transmission w/Dual Shift Mode&quot;</td><td>&quot;Black&quot;</td><td>&quot;Black&quot;</td><td>&quot;None reported&quot;</td><td>&quot;Yes&quot;</td><td>45000</td><td>&quot;420&quot;</td><td>&quot;5.0&quot;</td><td>&quot;8&quot;</td><td>false</td></tr><tr><td>4</td><td>&quot;Mercedes-Benz&quot;</td><td>&quot;Metris Base&quot;</td><td>2021</td><td>7388</td><td>&quot;Gasoline&quot;</td><td>&quot;208.0HP 2.0L 4 Cylinder Engine…</td><td>&quot;7-Speed A/T&quot;</td><td>&quot;Black&quot;</td><td>&quot;Beige&quot;</td><td>&quot;None reported&quot;</td><td>&quot;Yes&quot;</td><td>97500</td><td>&quot;208&quot;</td><td>&quot;2.0&quot;</td><td>&quot;4&quot;</td><td>false</td></tr><tr><td>&hellip;</td><td>&hellip;</td><td>&hellip;</td><td>&hellip;</td><td>&hellip;</td><td>&hellip;</td><td>&hellip;</td><td>&hellip;</td><td>&hellip;</td><td>&hellip;</td><td>&hellip;</td><td>&hellip;</td><td>&hellip;</td><td>&hellip;</td><td>&hellip;</td><td>&hellip;</td><td>&hellip;</td></tr><tr><td>188528</td><td>&quot;Cadillac&quot;</td><td>&quot;Escalade ESV Platinum&quot;</td><td>2017</td><td>49000</td><td>&quot;Gasoline&quot;</td><td>&quot;420.0HP 6.2L 8 Cylinder Engine…</td><td>&quot;Transmission w/Dual Shift Mode&quot;</td><td>&quot;White&quot;</td><td>&quot;Beige&quot;</td><td>&quot;None reported&quot;</td><td>&quot;Yes&quot;</td><td>27500</td><td>&quot;420&quot;</td><td>&quot;6.2&quot;</td><td>&quot;8&quot;</td><td>false</td></tr><tr><td>188529</td><td>&quot;Mercedes-Benz&quot;</td><td>&quot;AMG C 43 AMG C 43 4MATIC&quot;</td><td>2018</td><td>28600</td><td>&quot;Gasoline&quot;</td><td>&quot;385.0HP 3.0L V6 Cylinder Engin…</td><td>&quot;8-Speed A/T&quot;</td><td>&quot;White&quot;</td><td>&quot;Black&quot;</td><td>&quot;At least 1 accident or damage …</td><td>&quot;Yes&quot;</td><td>30000</td><td>&quot;385&quot;</td><td>&quot;3.0&quot;</td><td>&quot;6&quot;</td><td>false</td></tr><tr><td>188530</td><td>&quot;Mercedes-Benz&quot;</td><td>&quot;AMG GLC 63 Base 4MATIC&quot;</td><td>2021</td><td>13650</td><td>&quot;Gasoline&quot;</td><td>&quot;469.0HP 4.0L 8 Cylinder Engine…</td><td>&quot;7-Speed A/T&quot;</td><td>&quot;White&quot;</td><td>&quot;Black&quot;</td><td>&quot;None reported&quot;</td><td>&quot;Yes&quot;</td><td>86900</td><td>&quot;469&quot;</td><td>&quot;4.0&quot;</td><td>&quot;8&quot;</td><td>false</td></tr><tr><td>188531</td><td>&quot;Audi&quot;</td><td>&quot;S5 3.0T Prestige&quot;</td><td>2022</td><td>13895</td><td>&quot;Gasoline&quot;</td><td>&quot;3.0L&quot;</td><td>&quot;1-Speed Automatic&quot;</td><td>&quot;Daytona Gray Pearl Effect&quot;</td><td>&quot;Black&quot;</td><td>&quot;None reported&quot;</td><td>null</td><td>84900</td><td>null</td><td>&quot;3.0&quot;</td><td>null</td><td>false</td></tr><tr><td>188532</td><td>&quot;Porsche&quot;</td><td>&quot;Macan Base&quot;</td><td>2016</td><td>59500</td><td>&quot;Gasoline&quot;</td><td>&quot;252.0HP 2.0L 4 Cylinder Engine…</td><td>&quot;Transmission w/Dual Shift Mode&quot;</td><td>&quot;White&quot;</td><td>&quot;Black&quot;</td><td>&quot;None reported&quot;</td><td>&quot;Yes&quot;</td><td>28995</td><td>&quot;252&quot;</td><td>&quot;2.0&quot;</td><td>&quot;4&quot;</td><td>false</td></tr></tbody></table></div>"
      ],
      "text/plain": [
       "shape: (188_533, 17)\n",
       "┌────────┬──────────────┬──────────────┬────────────┬───┬──────┬─────────────┬──────────┬──────────┐\n",
       "│ id     ┆ brand        ┆ model        ┆ model_year ┆ … ┆ HP   ┆ Displacemen ┆ Cylinder ┆ Electric │\n",
       "│ ---    ┆ ---          ┆ ---          ┆ ---        ┆   ┆ ---  ┆ t           ┆ ---      ┆ ---      │\n",
       "│ i64    ┆ str          ┆ str          ┆ i64        ┆   ┆ str  ┆ ---         ┆ str      ┆ bool     │\n",
       "│        ┆              ┆              ┆            ┆   ┆      ┆ str         ┆          ┆          │\n",
       "╞════════╪══════════════╪══════════════╪════════════╪═══╪══════╪═════════════╪══════════╪══════════╡\n",
       "│ 0      ┆ MINI         ┆ Cooper S     ┆ 2007       ┆ … ┆ 172  ┆ 1.6         ┆ 4        ┆ false    │\n",
       "│        ┆              ┆ Base         ┆            ┆   ┆      ┆             ┆          ┆          │\n",
       "│ 1      ┆ Lincoln      ┆ LS V8        ┆ 2002       ┆ … ┆ 252  ┆ 3.9         ┆ 8        ┆ false    │\n",
       "│ 2      ┆ Chevrolet    ┆ Silverado    ┆ 2002       ┆ … ┆ 320  ┆ 5.3         ┆ 8        ┆ false    │\n",
       "│        ┆              ┆ 2500 LT      ┆            ┆   ┆      ┆             ┆          ┆          │\n",
       "│ 3      ┆ Genesis      ┆ G90 5.0      ┆ 2017       ┆ … ┆ 420  ┆ 5.0         ┆ 8        ┆ false    │\n",
       "│        ┆              ┆ Ultimate     ┆            ┆   ┆      ┆             ┆          ┆          │\n",
       "│ 4      ┆ Mercedes-Ben ┆ Metris Base  ┆ 2021       ┆ … ┆ 208  ┆ 2.0         ┆ 4        ┆ false    │\n",
       "│        ┆ z            ┆              ┆            ┆   ┆      ┆             ┆          ┆          │\n",
       "│ …      ┆ …            ┆ …            ┆ …          ┆ … ┆ …    ┆ …           ┆ …        ┆ …        │\n",
       "│ 188528 ┆ Cadillac     ┆ Escalade ESV ┆ 2017       ┆ … ┆ 420  ┆ 6.2         ┆ 8        ┆ false    │\n",
       "│        ┆              ┆ Platinum     ┆            ┆   ┆      ┆             ┆          ┆          │\n",
       "│ 188529 ┆ Mercedes-Ben ┆ AMG C 43 AMG ┆ 2018       ┆ … ┆ 385  ┆ 3.0         ┆ 6        ┆ false    │\n",
       "│        ┆ z            ┆ C 43 4MATIC  ┆            ┆   ┆      ┆             ┆          ┆          │\n",
       "│ 188530 ┆ Mercedes-Ben ┆ AMG GLC 63   ┆ 2021       ┆ … ┆ 469  ┆ 4.0         ┆ 8        ┆ false    │\n",
       "│        ┆ z            ┆ Base 4MATIC  ┆            ┆   ┆      ┆             ┆          ┆          │\n",
       "│ 188531 ┆ Audi         ┆ S5 3.0T      ┆ 2022       ┆ … ┆ null ┆ 3.0         ┆ null     ┆ false    │\n",
       "│        ┆              ┆ Prestige     ┆            ┆   ┆      ┆             ┆          ┆          │\n",
       "│ 188532 ┆ Porsche      ┆ Macan Base   ┆ 2016       ┆ … ┆ 252  ┆ 2.0         ┆ 4        ┆ false    │\n",
       "└────────┴──────────────┴──────────────┴────────────┴───┴──────┴─────────────┴──────────┴──────────┘"
      ]
     },
     "execution_count": 19,
     "metadata": {},
     "output_type": "execute_result"
    }
   ],
   "source": [
    "xd =(\n",
    "    df\n",
    "    .with_columns(\n",
    "        pl.col(\"engine\").str.replace(r'\\sLiter', \"L\")\n",
    "    )\n",
    "    .with_columns(\n",
    "        pl.col(\"engine\").str.extract(r'(\\d+)\\.\\d+HP',1).alias(\"HP\"),\n",
    "        pl.col(\"engine\").str.extract(r'(\\d+\\.\\d+)L',1).alias(\"Displacement\"),\n",
    "        pl.col(\"engine\").str.extract(r'(\\d+)\\sCylinder',1).alias(\"Cylinder\"),\n",
    "        pl.col(\"engine\").str.contains(\"Electric\").alias(\"Electric\")\n",
    "    )\n",
    ")\n",
    "xd"
   ]
  },
  {
   "cell_type": "code",
   "execution_count": 27,
   "metadata": {},
   "outputs": [
    {
     "data": {
      "text/html": [
       "<div><style>\n",
       ".dataframe > thead > tr,\n",
       ".dataframe > tbody > tr {\n",
       "  text-align: right;\n",
       "  white-space: pre-wrap;\n",
       "}\n",
       "</style>\n",
       "<small>shape: (188_533, 15)</small><table border=\"1\" class=\"dataframe\"><thead><tr><th>id</th><th>brand</th><th>model</th><th>model_year</th><th>milage</th><th>fuel_type</th><th>engine</th><th>transmission</th><th>ext_col</th><th>int_col</th><th>accident</th><th>clean_title</th><th>price</th><th>Brand Type</th><th>Fuel Type</th></tr><tr><td>i64</td><td>str</td><td>str</td><td>i64</td><td>i64</td><td>str</td><td>str</td><td>str</td><td>str</td><td>str</td><td>str</td><td>str</td><td>i64</td><td>i32</td><td>i32</td></tr></thead><tbody><tr><td>0</td><td>&quot;MINI&quot;</td><td>&quot;Cooper S Base&quot;</td><td>2007</td><td>213000</td><td>&quot;Gasoline&quot;</td><td>&quot;172.0HP 1.6L 4 Cylinder Engine…</td><td>&quot;A/T&quot;</td><td>&quot;Yellow&quot;</td><td>&quot;Gray&quot;</td><td>&quot;None reported&quot;</td><td>&quot;Yes&quot;</td><td>4200</td><td>2</td><td>1</td></tr><tr><td>1</td><td>&quot;Lincoln&quot;</td><td>&quot;LS V8&quot;</td><td>2002</td><td>143250</td><td>&quot;Gasoline&quot;</td><td>&quot;252.0HP 3.9L 8 Cylinder Engine…</td><td>&quot;A/T&quot;</td><td>&quot;Silver&quot;</td><td>&quot;Beige&quot;</td><td>&quot;At least 1 accident or damage …</td><td>&quot;Yes&quot;</td><td>4999</td><td>2</td><td>1</td></tr><tr><td>2</td><td>&quot;Chevrolet&quot;</td><td>&quot;Silverado 2500 LT&quot;</td><td>2002</td><td>136731</td><td>&quot;E85 Flex Fuel&quot;</td><td>&quot;320.0HP 5.3L 8 Cylinder Engine…</td><td>&quot;A/T&quot;</td><td>&quot;Blue&quot;</td><td>&quot;Gray&quot;</td><td>&quot;None reported&quot;</td><td>&quot;Yes&quot;</td><td>13900</td><td>1</td><td>1</td></tr><tr><td>3</td><td>&quot;Genesis&quot;</td><td>&quot;G90 5.0 Ultimate&quot;</td><td>2017</td><td>19500</td><td>&quot;Gasoline&quot;</td><td>&quot;420.0HP 5.0L 8 Cylinder Engine…</td><td>&quot;Transmission w/Dual Shift Mode&quot;</td><td>&quot;Black&quot;</td><td>&quot;Black&quot;</td><td>&quot;None reported&quot;</td><td>&quot;Yes&quot;</td><td>45000</td><td>2</td><td>1</td></tr><tr><td>4</td><td>&quot;Mercedes-Benz&quot;</td><td>&quot;Metris Base&quot;</td><td>2021</td><td>7388</td><td>&quot;Gasoline&quot;</td><td>&quot;208.0HP 2.0L 4 Cylinder Engine…</td><td>&quot;7-Speed A/T&quot;</td><td>&quot;Black&quot;</td><td>&quot;Beige&quot;</td><td>&quot;None reported&quot;</td><td>&quot;Yes&quot;</td><td>97500</td><td>2</td><td>1</td></tr><tr><td>&hellip;</td><td>&hellip;</td><td>&hellip;</td><td>&hellip;</td><td>&hellip;</td><td>&hellip;</td><td>&hellip;</td><td>&hellip;</td><td>&hellip;</td><td>&hellip;</td><td>&hellip;</td><td>&hellip;</td><td>&hellip;</td><td>&hellip;</td><td>&hellip;</td></tr><tr><td>188528</td><td>&quot;Cadillac&quot;</td><td>&quot;Escalade ESV Platinum&quot;</td><td>2017</td><td>49000</td><td>&quot;Gasoline&quot;</td><td>&quot;420.0HP 6.2L 8 Cylinder Engine…</td><td>&quot;Transmission w/Dual Shift Mode&quot;</td><td>&quot;White&quot;</td><td>&quot;Beige&quot;</td><td>&quot;None reported&quot;</td><td>&quot;Yes&quot;</td><td>27500</td><td>2</td><td>1</td></tr><tr><td>188529</td><td>&quot;Mercedes-Benz&quot;</td><td>&quot;AMG C 43 AMG C 43 4MATIC&quot;</td><td>2018</td><td>28600</td><td>&quot;Gasoline&quot;</td><td>&quot;385.0HP 3.0L V6 Cylinder Engin…</td><td>&quot;8-Speed A/T&quot;</td><td>&quot;White&quot;</td><td>&quot;Black&quot;</td><td>&quot;At least 1 accident or damage …</td><td>&quot;Yes&quot;</td><td>30000</td><td>2</td><td>1</td></tr><tr><td>188530</td><td>&quot;Mercedes-Benz&quot;</td><td>&quot;AMG GLC 63 Base 4MATIC&quot;</td><td>2021</td><td>13650</td><td>&quot;Gasoline&quot;</td><td>&quot;469.0HP 4.0L 8 Cylinder Engine…</td><td>&quot;7-Speed A/T&quot;</td><td>&quot;White&quot;</td><td>&quot;Black&quot;</td><td>&quot;None reported&quot;</td><td>&quot;Yes&quot;</td><td>86900</td><td>2</td><td>1</td></tr><tr><td>188531</td><td>&quot;Audi&quot;</td><td>&quot;S5 3.0T Prestige&quot;</td><td>2022</td><td>13895</td><td>&quot;Gasoline&quot;</td><td>&quot;3.0L&quot;</td><td>&quot;1-Speed Automatic&quot;</td><td>&quot;Daytona Gray Pearl Effect&quot;</td><td>&quot;Black&quot;</td><td>&quot;None reported&quot;</td><td>null</td><td>84900</td><td>2</td><td>1</td></tr><tr><td>188532</td><td>&quot;Porsche&quot;</td><td>&quot;Macan Base&quot;</td><td>2016</td><td>59500</td><td>&quot;Gasoline&quot;</td><td>&quot;252.0HP 2.0L 4 Cylinder Engine…</td><td>&quot;Transmission w/Dual Shift Mode&quot;</td><td>&quot;White&quot;</td><td>&quot;Black&quot;</td><td>&quot;None reported&quot;</td><td>&quot;Yes&quot;</td><td>28995</td><td>2</td><td>1</td></tr></tbody></table></div>"
      ],
      "text/plain": [
       "shape: (188_533, 15)\n",
       "┌────────┬─────────────┬────────────┬────────────┬───┬────────────┬───────┬────────────┬───────────┐\n",
       "│ id     ┆ brand       ┆ model      ┆ model_year ┆ … ┆ clean_titl ┆ price ┆ Brand Type ┆ Fuel Type │\n",
       "│ ---    ┆ ---         ┆ ---        ┆ ---        ┆   ┆ e          ┆ ---   ┆ ---        ┆ ---       │\n",
       "│ i64    ┆ str         ┆ str        ┆ i64        ┆   ┆ ---        ┆ i64   ┆ i32        ┆ i32       │\n",
       "│        ┆             ┆            ┆            ┆   ┆ str        ┆       ┆            ┆           │\n",
       "╞════════╪═════════════╪════════════╪════════════╪═══╪════════════╪═══════╪════════════╪═══════════╡\n",
       "│ 0      ┆ MINI        ┆ Cooper S   ┆ 2007       ┆ … ┆ Yes        ┆ 4200  ┆ 2          ┆ 1         │\n",
       "│        ┆             ┆ Base       ┆            ┆   ┆            ┆       ┆            ┆           │\n",
       "│ 1      ┆ Lincoln     ┆ LS V8      ┆ 2002       ┆ … ┆ Yes        ┆ 4999  ┆ 2          ┆ 1         │\n",
       "│ 2      ┆ Chevrolet   ┆ Silverado  ┆ 2002       ┆ … ┆ Yes        ┆ 13900 ┆ 1          ┆ 1         │\n",
       "│        ┆             ┆ 2500 LT    ┆            ┆   ┆            ┆       ┆            ┆           │\n",
       "│ 3      ┆ Genesis     ┆ G90 5.0    ┆ 2017       ┆ … ┆ Yes        ┆ 45000 ┆ 2          ┆ 1         │\n",
       "│        ┆             ┆ Ultimate   ┆            ┆   ┆            ┆       ┆            ┆           │\n",
       "│ 4      ┆ Mercedes-Be ┆ Metris     ┆ 2021       ┆ … ┆ Yes        ┆ 97500 ┆ 2          ┆ 1         │\n",
       "│        ┆ nz          ┆ Base       ┆            ┆   ┆            ┆       ┆            ┆           │\n",
       "│ …      ┆ …           ┆ …          ┆ …          ┆ … ┆ …          ┆ …     ┆ …          ┆ …         │\n",
       "│ 188528 ┆ Cadillac    ┆ Escalade   ┆ 2017       ┆ … ┆ Yes        ┆ 27500 ┆ 2          ┆ 1         │\n",
       "│        ┆             ┆ ESV        ┆            ┆   ┆            ┆       ┆            ┆           │\n",
       "│        ┆             ┆ Platinum   ┆            ┆   ┆            ┆       ┆            ┆           │\n",
       "│ 188529 ┆ Mercedes-Be ┆ AMG C 43   ┆ 2018       ┆ … ┆ Yes        ┆ 30000 ┆ 2          ┆ 1         │\n",
       "│        ┆ nz          ┆ AMG C 43   ┆            ┆   ┆            ┆       ┆            ┆           │\n",
       "│        ┆             ┆ 4MATIC     ┆            ┆   ┆            ┆       ┆            ┆           │\n",
       "│ 188530 ┆ Mercedes-Be ┆ AMG GLC 63 ┆ 2021       ┆ … ┆ Yes        ┆ 86900 ┆ 2          ┆ 1         │\n",
       "│        ┆ nz          ┆ Base       ┆            ┆   ┆            ┆       ┆            ┆           │\n",
       "│        ┆             ┆ 4MATIC     ┆            ┆   ┆            ┆       ┆            ┆           │\n",
       "│ 188531 ┆ Audi        ┆ S5 3.0T    ┆ 2022       ┆ … ┆ null       ┆ 84900 ┆ 2          ┆ 1         │\n",
       "│        ┆             ┆ Prestige   ┆            ┆   ┆            ┆       ┆            ┆           │\n",
       "│ 188532 ┆ Porsche     ┆ Macan Base ┆ 2016       ┆ … ┆ Yes        ┆ 28995 ┆ 2          ┆ 1         │\n",
       "└────────┴─────────────┴────────────┴────────────┴───┴────────────┴───────┴────────────┴───────────┘"
      ]
     },
     "execution_count": 27,
     "metadata": {},
     "output_type": "execute_result"
    }
   ],
   "source": [
    "(\n",
    "    df\n",
    "    .with_columns()\n",
    "    .with_columns(set_brand(pl.col(\"brand\")).alias(\"Brand Type\"))\n",
    "    .with_columns(set_fuel_type(pl.col(\"fuel_type\")).alias(\"Fuel Type\"))\n",
    ")"
   ]
  }
 ],
 "metadata": {
  "kernelspec": {
   "display_name": ".venv",
   "language": "python",
   "name": "python3"
  },
  "language_info": {
   "codemirror_mode": {
    "name": "ipython",
    "version": 3
   },
   "file_extension": ".py",
   "mimetype": "text/x-python",
   "name": "python",
   "nbconvert_exporter": "python",
   "pygments_lexer": "ipython3",
   "version": "3.12.6"
  }
 },
 "nbformat": 4,
 "nbformat_minor": 2
}
