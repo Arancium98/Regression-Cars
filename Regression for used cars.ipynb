{
 "cells": [
  {
   "cell_type": "markdown",
   "metadata": {},
   "source": [
    "<a id=\"setup\"></a>\n",
    "# <p style=\"background-color: #ff6200; font-family:calibri; color:white; font-size:120%; font-family:Verdana; text-align:center; border-radius:15px 50px;\">Step 1 | Setup and Initialization</p>"
   ]
  },
  {
   "cell_type": "markdown",
   "metadata": {},
   "source": [
    "<div style=\"border-radius:10px; padding: 15px; font-size:100%; text-align:left\">\n",
    "\n",
    "<h2 align=\"left\"><font color=#ff6200>Libraries</font></h2>"
   ]
  },
  {
   "cell_type": "code",
   "execution_count": 1,
   "metadata": {},
   "outputs": [],
   "source": [
    "# Data Wrangling\n",
    "import polars as pl\n",
    "import polars.selectors as cs\n",
    "\n",
    "# Data Pre-Processing\n",
    "from sklearn.preprocessing import LabelEncoder\n",
    "\n",
    "# xgboost\n",
    "import xgboost as xgb\n",
    "\n",
    "# Metrics\n",
    "from sklearn.metrics import mean_squared_error"
   ]
  },
  {
   "cell_type": "markdown",
   "metadata": {},
   "source": [
    "<div style=\"border-radius:10px; padding: 15px;font-size:100%; text-align:left\">\n",
    "\n",
    "<h2 align=\"left\"><font color=#ff6200>Dataset Description</font></h2>\n",
    "\n",
    "| __Variable__   | __Description__ |\n",
    "|     :---       |       :---      |      \n",
    "| __ID__  | The identifier. |\n",
    "| __brand__  | The brand of the car. |\n",
    "| __model__| The model of the car. |\n",
    "| __model_year__   | The year of the model. |\n",
    "| __milage__| How many miles the car have. |\n",
    "| __fuel_type__  | The type of fuel. |\n",
    "| __engine__ | Engine details. |\n",
    "| __transmission__    |Transmission details. |\n",
    "| __ext_col__    | Exterior color. |\n",
    "| __int_col__    | Interior color. |\n",
    "| __accident__    | The car has an accident. (1 if yes) |\n",
    "| __clean_title__    | Clean Tittle. |\n",
    "| __price__    | The price of car. (Target Variable) |\n"
   ]
  },
  {
   "cell_type": "code",
   "execution_count": 2,
   "metadata": {},
   "outputs": [],
   "source": [
    "df = pl.read_csv(\"train.csv\")"
   ]
  },
  {
   "cell_type": "markdown",
   "metadata": {},
   "source": [
    "<a id=\"setup\"></a>\n",
    "# <p style=\"background-color: #ff6200; font-family:calibri; color:white; font-size:120%; font-family:Verdana; text-align:center; border-radius:15px 50px;\">Step 2 | Data Wrangling</p>\n"
   ]
  },
  {
   "cell_type": "code",
   "execution_count": 3,
   "metadata": {},
   "outputs": [
    {
     "data": {
      "text/html": [
       "<div><style>\n",
       ".dataframe > thead > tr,\n",
       ".dataframe > tbody > tr {\n",
       "  text-align: right;\n",
       "  white-space: pre-wrap;\n",
       "}\n",
       "</style>\n",
       "<small>shape: (5, 13)</small><table border=\"1\" class=\"dataframe\"><thead><tr><th>id</th><th>brand</th><th>model</th><th>model_year</th><th>milage</th><th>fuel_type</th><th>engine</th><th>transmission</th><th>ext_col</th><th>int_col</th><th>accident</th><th>clean_title</th><th>price</th></tr><tr><td>i64</td><td>str</td><td>str</td><td>i64</td><td>i64</td><td>str</td><td>str</td><td>str</td><td>str</td><td>str</td><td>str</td><td>str</td><td>i64</td></tr></thead><tbody><tr><td>0</td><td>&quot;MINI&quot;</td><td>&quot;Cooper S Base&quot;</td><td>2007</td><td>213000</td><td>&quot;Gasoline&quot;</td><td>&quot;172.0HP 1.6L 4 Cylinder Engine…</td><td>&quot;A/T&quot;</td><td>&quot;Yellow&quot;</td><td>&quot;Gray&quot;</td><td>&quot;None reported&quot;</td><td>&quot;Yes&quot;</td><td>4200</td></tr><tr><td>1</td><td>&quot;Lincoln&quot;</td><td>&quot;LS V8&quot;</td><td>2002</td><td>143250</td><td>&quot;Gasoline&quot;</td><td>&quot;252.0HP 3.9L 8 Cylinder Engine…</td><td>&quot;A/T&quot;</td><td>&quot;Silver&quot;</td><td>&quot;Beige&quot;</td><td>&quot;At least 1 accident or damage …</td><td>&quot;Yes&quot;</td><td>4999</td></tr><tr><td>2</td><td>&quot;Chevrolet&quot;</td><td>&quot;Silverado 2500 LT&quot;</td><td>2002</td><td>136731</td><td>&quot;E85 Flex Fuel&quot;</td><td>&quot;320.0HP 5.3L 8 Cylinder Engine…</td><td>&quot;A/T&quot;</td><td>&quot;Blue&quot;</td><td>&quot;Gray&quot;</td><td>&quot;None reported&quot;</td><td>&quot;Yes&quot;</td><td>13900</td></tr><tr><td>3</td><td>&quot;Genesis&quot;</td><td>&quot;G90 5.0 Ultimate&quot;</td><td>2017</td><td>19500</td><td>&quot;Gasoline&quot;</td><td>&quot;420.0HP 5.0L 8 Cylinder Engine…</td><td>&quot;Transmission w/Dual Shift Mode&quot;</td><td>&quot;Black&quot;</td><td>&quot;Black&quot;</td><td>&quot;None reported&quot;</td><td>&quot;Yes&quot;</td><td>45000</td></tr><tr><td>4</td><td>&quot;Mercedes-Benz&quot;</td><td>&quot;Metris Base&quot;</td><td>2021</td><td>7388</td><td>&quot;Gasoline&quot;</td><td>&quot;208.0HP 2.0L 4 Cylinder Engine…</td><td>&quot;7-Speed A/T&quot;</td><td>&quot;Black&quot;</td><td>&quot;Beige&quot;</td><td>&quot;None reported&quot;</td><td>&quot;Yes&quot;</td><td>97500</td></tr></tbody></table></div>"
      ],
      "text/plain": [
       "shape: (5, 13)\n",
       "┌─────┬──────────────┬──────────────┬────────────┬───┬─────────┬─────────────┬─────────────┬───────┐\n",
       "│ id  ┆ brand        ┆ model        ┆ model_year ┆ … ┆ int_col ┆ accident    ┆ clean_title ┆ price │\n",
       "│ --- ┆ ---          ┆ ---          ┆ ---        ┆   ┆ ---     ┆ ---         ┆ ---         ┆ ---   │\n",
       "│ i64 ┆ str          ┆ str          ┆ i64        ┆   ┆ str     ┆ str         ┆ str         ┆ i64   │\n",
       "╞═════╪══════════════╪══════════════╪════════════╪═══╪═════════╪═════════════╪═════════════╪═══════╡\n",
       "│ 0   ┆ MINI         ┆ Cooper S     ┆ 2007       ┆ … ┆ Gray    ┆ None        ┆ Yes         ┆ 4200  │\n",
       "│     ┆              ┆ Base         ┆            ┆   ┆         ┆ reported    ┆             ┆       │\n",
       "│ 1   ┆ Lincoln      ┆ LS V8        ┆ 2002       ┆ … ┆ Beige   ┆ At least 1  ┆ Yes         ┆ 4999  │\n",
       "│     ┆              ┆              ┆            ┆   ┆         ┆ accident or ┆             ┆       │\n",
       "│     ┆              ┆              ┆            ┆   ┆         ┆ damage …    ┆             ┆       │\n",
       "│ 2   ┆ Chevrolet    ┆ Silverado    ┆ 2002       ┆ … ┆ Gray    ┆ None        ┆ Yes         ┆ 13900 │\n",
       "│     ┆              ┆ 2500 LT      ┆            ┆   ┆         ┆ reported    ┆             ┆       │\n",
       "│ 3   ┆ Genesis      ┆ G90 5.0      ┆ 2017       ┆ … ┆ Black   ┆ None        ┆ Yes         ┆ 45000 │\n",
       "│     ┆              ┆ Ultimate     ┆            ┆   ┆         ┆ reported    ┆             ┆       │\n",
       "│ 4   ┆ Mercedes-Ben ┆ Metris Base  ┆ 2021       ┆ … ┆ Beige   ┆ None        ┆ Yes         ┆ 97500 │\n",
       "│     ┆ z            ┆              ┆            ┆   ┆         ┆ reported    ┆             ┆       │\n",
       "└─────┴──────────────┴──────────────┴────────────┴───┴─────────┴─────────────┴─────────────┴───────┘"
      ]
     },
     "execution_count": 3,
     "metadata": {},
     "output_type": "execute_result"
    }
   ],
   "source": [
    "df.head()"
   ]
  },
  {
   "cell_type": "markdown",
   "metadata": {},
   "source": [
    "<div style=\"border-radius:10px; padding: 15px; font-size:100%; text-align:left\">\n",
    "\n",
    "<h2 align=\"left\"><font color=#ff6200>String Variables</font></h2>"
   ]
  },
  {
   "cell_type": "code",
   "execution_count": 4,
   "metadata": {},
   "outputs": [
    {
     "data": {
      "text/html": [
       "<div><style>\n",
       ".dataframe > thead > tr,\n",
       ".dataframe > tbody > tr {\n",
       "  text-align: right;\n",
       "  white-space: pre-wrap;\n",
       "}\n",
       "</style>\n",
       "<small>shape: (5, 9)</small><table border=\"1\" class=\"dataframe\"><thead><tr><th>brand</th><th>model</th><th>fuel_type</th><th>engine</th><th>transmission</th><th>ext_col</th><th>int_col</th><th>accident</th><th>clean_title</th></tr><tr><td>str</td><td>str</td><td>str</td><td>str</td><td>str</td><td>str</td><td>str</td><td>str</td><td>str</td></tr></thead><tbody><tr><td>&quot;MINI&quot;</td><td>&quot;Cooper S Base&quot;</td><td>&quot;Gasoline&quot;</td><td>&quot;172.0HP 1.6L 4 Cylinder Engine…</td><td>&quot;A/T&quot;</td><td>&quot;Yellow&quot;</td><td>&quot;Gray&quot;</td><td>&quot;None reported&quot;</td><td>&quot;Yes&quot;</td></tr><tr><td>&quot;Lincoln&quot;</td><td>&quot;LS V8&quot;</td><td>&quot;Gasoline&quot;</td><td>&quot;252.0HP 3.9L 8 Cylinder Engine…</td><td>&quot;A/T&quot;</td><td>&quot;Silver&quot;</td><td>&quot;Beige&quot;</td><td>&quot;At least 1 accident or damage …</td><td>&quot;Yes&quot;</td></tr><tr><td>&quot;Chevrolet&quot;</td><td>&quot;Silverado 2500 LT&quot;</td><td>&quot;E85 Flex Fuel&quot;</td><td>&quot;320.0HP 5.3L 8 Cylinder Engine…</td><td>&quot;A/T&quot;</td><td>&quot;Blue&quot;</td><td>&quot;Gray&quot;</td><td>&quot;None reported&quot;</td><td>&quot;Yes&quot;</td></tr><tr><td>&quot;Genesis&quot;</td><td>&quot;G90 5.0 Ultimate&quot;</td><td>&quot;Gasoline&quot;</td><td>&quot;420.0HP 5.0L 8 Cylinder Engine…</td><td>&quot;Transmission w/Dual Shift Mode&quot;</td><td>&quot;Black&quot;</td><td>&quot;Black&quot;</td><td>&quot;None reported&quot;</td><td>&quot;Yes&quot;</td></tr><tr><td>&quot;Mercedes-Benz&quot;</td><td>&quot;Metris Base&quot;</td><td>&quot;Gasoline&quot;</td><td>&quot;208.0HP 2.0L 4 Cylinder Engine…</td><td>&quot;7-Speed A/T&quot;</td><td>&quot;Black&quot;</td><td>&quot;Beige&quot;</td><td>&quot;None reported&quot;</td><td>&quot;Yes&quot;</td></tr></tbody></table></div>"
      ],
      "text/plain": [
       "shape: (5, 9)\n",
       "┌────────────┬────────────┬────────────┬───────────┬───┬─────────┬─────────┬───────────┬───────────┐\n",
       "│ brand      ┆ model      ┆ fuel_type  ┆ engine    ┆ … ┆ ext_col ┆ int_col ┆ accident  ┆ clean_tit │\n",
       "│ ---        ┆ ---        ┆ ---        ┆ ---       ┆   ┆ ---     ┆ ---     ┆ ---       ┆ le        │\n",
       "│ str        ┆ str        ┆ str        ┆ str       ┆   ┆ str     ┆ str     ┆ str       ┆ ---       │\n",
       "│            ┆            ┆            ┆           ┆   ┆         ┆         ┆           ┆ str       │\n",
       "╞════════════╪════════════╪════════════╪═══════════╪═══╪═════════╪═════════╪═══════════╪═══════════╡\n",
       "│ MINI       ┆ Cooper S   ┆ Gasoline   ┆ 172.0HP   ┆ … ┆ Yellow  ┆ Gray    ┆ None      ┆ Yes       │\n",
       "│            ┆ Base       ┆            ┆ 1.6L 4    ┆   ┆         ┆         ┆ reported  ┆           │\n",
       "│            ┆            ┆            ┆ Cylinder  ┆   ┆         ┆         ┆           ┆           │\n",
       "│            ┆            ┆            ┆ Engine…   ┆   ┆         ┆         ┆           ┆           │\n",
       "│ Lincoln    ┆ LS V8      ┆ Gasoline   ┆ 252.0HP   ┆ … ┆ Silver  ┆ Beige   ┆ At least  ┆ Yes       │\n",
       "│            ┆            ┆            ┆ 3.9L 8    ┆   ┆         ┆         ┆ 1         ┆           │\n",
       "│            ┆            ┆            ┆ Cylinder  ┆   ┆         ┆         ┆ accident  ┆           │\n",
       "│            ┆            ┆            ┆ Engine…   ┆   ┆         ┆         ┆ or damage ┆           │\n",
       "│            ┆            ┆            ┆           ┆   ┆         ┆         ┆ …         ┆           │\n",
       "│ Chevrolet  ┆ Silverado  ┆ E85 Flex   ┆ 320.0HP   ┆ … ┆ Blue    ┆ Gray    ┆ None      ┆ Yes       │\n",
       "│            ┆ 2500 LT    ┆ Fuel       ┆ 5.3L 8    ┆   ┆         ┆         ┆ reported  ┆           │\n",
       "│            ┆            ┆            ┆ Cylinder  ┆   ┆         ┆         ┆           ┆           │\n",
       "│            ┆            ┆            ┆ Engine…   ┆   ┆         ┆         ┆           ┆           │\n",
       "│ Genesis    ┆ G90 5.0    ┆ Gasoline   ┆ 420.0HP   ┆ … ┆ Black   ┆ Black   ┆ None      ┆ Yes       │\n",
       "│            ┆ Ultimate   ┆            ┆ 5.0L 8    ┆   ┆         ┆         ┆ reported  ┆           │\n",
       "│            ┆            ┆            ┆ Cylinder  ┆   ┆         ┆         ┆           ┆           │\n",
       "│            ┆            ┆            ┆ Engine…   ┆   ┆         ┆         ┆           ┆           │\n",
       "│ Mercedes-B ┆ Metris     ┆ Gasoline   ┆ 208.0HP   ┆ … ┆ Black   ┆ Beige   ┆ None      ┆ Yes       │\n",
       "│ enz        ┆ Base       ┆            ┆ 2.0L 4    ┆   ┆         ┆         ┆ reported  ┆           │\n",
       "│            ┆            ┆            ┆ Cylinder  ┆   ┆         ┆         ┆           ┆           │\n",
       "│            ┆            ┆            ┆ Engine…   ┆   ┆         ┆         ┆           ┆           │\n",
       "└────────────┴────────────┴────────────┴───────────┴───┴─────────┴─────────┴───────────┴───────────┘"
      ]
     },
     "execution_count": 4,
     "metadata": {},
     "output_type": "execute_result"
    }
   ],
   "source": [
    "(\n",
    "    df.select(cs.by_dtype(pl.String))\n",
    "    .head(5)\n",
    ")"
   ]
  },
  {
   "cell_type": "code",
   "execution_count": 5,
   "metadata": {},
   "outputs": [
    {
     "data": {
      "text/html": [
       "<div><style>\n",
       ".dataframe > thead > tr,\n",
       ".dataframe > tbody > tr {\n",
       "  text-align: right;\n",
       "  white-space: pre-wrap;\n",
       "}\n",
       "</style>\n",
       "<small>shape: (9, 3)</small><table border=\"1\" class=\"dataframe\"><thead><tr><th>column</th><th>Null_Values</th><th>Unique_Values</th></tr><tr><td>str</td><td>f64</td><td>u32</td></tr></thead><tbody><tr><td>&quot;ext_col&quot;</td><td>0.0</td><td>319</td></tr><tr><td>&quot;engine&quot;</td><td>0.0</td><td>1117</td></tr><tr><td>&quot;fuel_type&quot;</td><td>2.69608</td><td>8</td></tr><tr><td>&quot;model&quot;</td><td>0.0</td><td>1897</td></tr><tr><td>&quot;int_col&quot;</td><td>0.0</td><td>156</td></tr><tr><td>&quot;brand&quot;</td><td>0.0</td><td>57</td></tr><tr><td>&quot;accident&quot;</td><td>1.300568</td><td>3</td></tr><tr><td>&quot;transmission&quot;</td><td>0.0</td><td>52</td></tr><tr><td>&quot;clean_title&quot;</td><td>11.360876</td><td>2</td></tr></tbody></table></div>"
      ],
      "text/plain": [
       "shape: (9, 3)\n",
       "┌──────────────┬─────────────┬───────────────┐\n",
       "│ column       ┆ Null_Values ┆ Unique_Values │\n",
       "│ ---          ┆ ---         ┆ ---           │\n",
       "│ str          ┆ f64         ┆ u32           │\n",
       "╞══════════════╪═════════════╪═══════════════╡\n",
       "│ ext_col      ┆ 0.0         ┆ 319           │\n",
       "│ engine       ┆ 0.0         ┆ 1117          │\n",
       "│ fuel_type    ┆ 2.69608     ┆ 8             │\n",
       "│ model        ┆ 0.0         ┆ 1897          │\n",
       "│ int_col      ┆ 0.0         ┆ 156           │\n",
       "│ brand        ┆ 0.0         ┆ 57            │\n",
       "│ accident     ┆ 1.300568    ┆ 3             │\n",
       "│ transmission ┆ 0.0         ┆ 52            │\n",
       "│ clean_title  ┆ 11.360876   ┆ 2             │\n",
       "└──────────────┴─────────────┴───────────────┘"
      ]
     },
     "execution_count": 5,
     "metadata": {},
     "output_type": "execute_result"
    }
   ],
   "source": [
    "(\n",
    "    df\n",
    "    .select(cs.by_dtype(pl.String))\n",
    "    .unpivot(variable_name=\"column\")\n",
    "    .group_by(\"column\")\n",
    "    .agg(\n",
    "        Null_Values = (pl.col.value.is_null().sum() / pl.col.value.len()) * 100,\n",
    "        Unique_Values = (pl.col.value.n_unique())\n",
    "    )\n",
    ")"
   ]
  },
  {
   "cell_type": "markdown",
   "metadata": {},
   "source": [
    "<div style=\"border-radius: 15px; padding: 20px; background-color: #ffeacc; font-size: 100%; text-align: left; border: 2px solid #ff6200; box-shadow: 0 4px 8px rgba(0, 0, 0, 0.1);\">\n",
    "    <h2 style=\"font-family: Arial, sans-serif; color: #ff6200; margin-bottom: 10px;\">String Variables</h2>\n",
    "    <ul style=\"font-family: Arial, sans-serif; line-height: 1.8; color: #333; padding-left: 20px;\">\n",
    "        <li><strong>Missing Values:</strong> Missing data is found in 3 variables: <em>\"fuel_type\"</em> (2.69%), <em>\"clean_title\"</em> (11.3%), and <em>\"accident\"</em> (1.3%). The <em>\"clean_title\"</em> variable has a significant portion of missing values, which I will address later in the process.\n",
    "        </li>\n",
    "        <li><strong>Unique Values:</strong> The dataset contains a high number of unique values, particularly in the <em>\"model\"</em> column, with 1,897 distinct entries.</li>        \n",
    "        <li><strong>Brand:</strong> There are 57 different car brands in the dataset. I will categorize these into broader groups such as luxury cars, premium cars, mainstream brands, and others.</li>\n",
    "        <li><strong>Fuel Type:</strong> The <em>\"fuel_type\"</em> column has 8 different values. To simplify the analysis, I will condense these into 5 categories: 1) Diesel, 2) Hybrid, 3) Electric, 4) Gasoline, and 5) Other.</li>\n",
    "        <li><strong>Interior and Exterior Color:</strong> Although there are many color options, I will focus on the base colors and create a new column labeled \"Special Color\" to flag any unique color variations.</li>\n",
    "        <li><strong>Engine:</strong> The <em>\"engine\"</em> column contains valuable information such as horsepower (HP), engine displacement (liters), and cylinder count.</li>\n",
    "        <li><strong>Transmission:</strong> The <em>\"transmission\"</em> column provides interesting details. I will perform additional data wrangling to extract and organize the key information from this column.</li>\n",
    "        <li><strong>Model:</strong> The <em>\"Model\"</em> column have multiple values, so on this first go, i'm going to ignore it.</li>\n",
    "    </ul>\n",
    "</div>\n"
   ]
  },
  {
   "cell_type": "markdown",
   "metadata": {},
   "source": [
    "<div style=\"border-radius:10px; padding: 15px; font-size:100%; text-align:left\">\n",
    "<h3 align=\"left\"><font color=#ff6200>Brand</font></h3>\n",
    "</div>\n",
    "\n",
    "As i said, im going to create some features for the brand"
   ]
  },
  {
   "cell_type": "code",
   "execution_count": 6,
   "metadata": {},
   "outputs": [],
   "source": [
    "# Brand\n",
    "Luxury_list = [\"Lambo\", \"Ferrari\", \"Bugatti\", \"Rolls-Royce\", \"Maserati\", \"McLaren\", \"Bentley\", \"Aston\", \"Lamborghini\", \"Maybach\"]\n",
    "Premium_list = [\"Mercedes-Benz\", \"Audi\", \"BMW\", \"Porsche\", \"MINI\", \"Cadillac\",\"Lexus\", \"Tesla\", \"INFINITI\",\n",
    "                \"Land\", \"Lincoln\", \"Volvo\", \"Acura\", \"Jeep\", \"Honda\", \"Chrysler\", \"Genesis\", \"Pontiac\", \"Jaguar\",\n",
    "                \"Hummer\", \"Alfa\", \"Dodge\", \"Subaru\", \"FIAT\"]\n",
    "Normal_list = [\"Toyota\", \"Nissan\", \"Volkswagen\", \"Hyundai\", \"Kia\", \"Chevrolet\", \"Ford\", \"GMC\", \"Mazda\", \"RAM\", \"Mitsubishi\", \"Suzuki\"]\n",
    "\n",
    "\n",
    "def set_brand(brand_col: pl.Expr) -> pl.Expr:\n",
    "    return (\n",
    "        pl.when(brand_col.is_in(Luxury_list)).then(3)\n",
    "        .when(brand_col.is_in(Premium_list)).then(2)\n",
    "        .when(brand_col.is_in(Normal_list)).then(1)\n",
    "        .otherwise(0)\n",
    "        .alias(\"Brand Type\")\n",
    "    )\n"
   ]
  },
  {
   "cell_type": "markdown",
   "metadata": {},
   "source": [
    "<div style=\"border-radius:10px; padding: 15px; font-size:100%; text-align:left\">\n",
    "<h3 align=\"left\"><font color=#ff6200>Fuel</font></h3>\n",
    "</div>\n",
    "\n",
    "Im going to create groups for the Fuel, if the value its null im going to asume it's some kind of gasoline"
   ]
  },
  {
   "cell_type": "code",
   "execution_count": 7,
   "metadata": {},
   "outputs": [],
   "source": [
    "def set_fuel_type(fuel_type_col: pl.Expr) -> pl.Expr:\n",
    "    return (\n",
    "        pl.when(fuel_type_col.is_in([\"E85 Flex Fuel\", \"Gasoline\"])).then(1)\n",
    "        .when(fuel_type_col == \"Diesel\").then(2)\n",
    "        .when(fuel_type_col.is_in([ \"Hybrid\",\"Plug-In Hybrid\" ])).then(3)\n",
    "        .when(fuel_type_col.is_in([ \"not supported\"])).then(4)\n",
    "        .when(fuel_type_col.is_in([\"–\"])).then(5)\n",
    "        .otherwise(1)\n",
    "        .alias(\"Fuel Type\")\n",
    "    )"
   ]
  },
  {
   "cell_type": "markdown",
   "metadata": {},
   "source": [
    "<div style=\"border-radius:10px; padding: 15px; font-size:100%; text-align:left\">\n",
    "<h3 align=\"left\"><font color=#ff6200>Engine</font></h3>\n",
    "</div>\n",
    "Going to extract the info that have the engine column"
   ]
  },
  {
   "cell_type": "code",
   "execution_count": 8,
   "metadata": {},
   "outputs": [],
   "source": [
    "def get_engine() -> pl.Expr:\n",
    "    return (\n",
    "        pl.col(\"engine\").str.extract(r'(\\d+)\\.\\d+HP',1).cast(pl.Int64).alias(\"HP\"),\n",
    "        pl.col(\"engine\").str.extract(r'(\\d+\\.\\d+)L',1).cast(pl.Float32).alias(\"Displacement\"),\n",
    "        pl.col(\"engine\").str.extract(r'(\\d+)\\sCylinder',1).cast(pl.Int64).alias(\"Cylinder\"),\n",
    "        pl.col(\"engine\").str.contains(\"Electric\").alias(\"Electric\")\n",
    "    )"
   ]
  },
  {
   "cell_type": "markdown",
   "metadata": {},
   "source": [
    "<div style=\"border-radius:10px; padding: 15px; font-size:100%; text-align:left\">\n",
    "<h3 align=\"left\"><font color=#ff6200>Color</font></h3>\n",
    "</div>\n",
    "\n",
    "Delete any white spaces, and lowercase all the colors, later, transform them into simplier colors"
   ]
  },
  {
   "cell_type": "code",
   "execution_count": 9,
   "metadata": {},
   "outputs": [],
   "source": [
    "color_list = [\"yellow\",\"white\", \"silver\", \"black\", \"blue\", \"gray\", \"red\", \"green\", \"beige\",\"purple\", \"orange\", \"brown\", \"other\"]\n",
    "pattern = \"|\".join(color_list)\n",
    "\n",
    "replace_colors = {\n",
    "    \"ebony\" : \"green\",\n",
    "    \"gold\": \"yellow\",\n",
    "    \"metallic\" : \"gray\",\n",
    "    \"grey\" : \"gray\",\n",
    "    \"verde\": \"green\",\n",
    "    \"caviar\" : \"black\",\n",
    "    \"pearl\" : \"white\",\n",
    "    \"obsidian\": \"purple\",\n",
    "    \"sea\" : \"blue\",\n",
    "    \"blu\" : \"blue\",\n",
    "    \"–\": \"other\"\n",
    "} \n",
    "\n",
    "\n",
    "def get_colors_features()-> pl.Expr:\n",
    "    return(\n",
    "        pl.col(\"ext_col\").str.strip_chars().str.to_lowercase().str.replace_many(replace_colors).str.extract(f\"({pattern})\").alias(\"ext_color_f\").fill_null(pl.lit(\"other\")),\n",
    "        pl.col(\"int_col\").str.strip_chars().str.to_lowercase().str.replace_many(replace_colors).str.extract(f\"({pattern})\").alias(\"int_col_f\").fill_null(pl.lit(\"other\"))\n",
    "    )\n",
    "\n",
    "def is_special_color() -> pl.Expr:\n",
    "    return (\n",
    "        pl\n",
    "        .when(\n",
    "            (pl.col(\"ext_col\").str.strip_chars().str.to_lowercase().str.len_chars() > 7) | ~(pl.col(\"ext_col\").str.strip_chars().str.to_lowercase().is_in(color_list))\n",
    "            )\n",
    "            .then(1)\n",
    "            .otherwise(0)\n",
    "        .alias(\"Special ext Color\")\n",
    "    )"
   ]
  },
  {
   "cell_type": "markdown",
   "metadata": {},
   "source": [
    "<div style=\"border-radius:10px; padding: 15px; font-size:100%; text-align:left\">\n",
    "<h3 align=\"left\"><font color=#ff6200>Transmission</font></h3>\n",
    "</div>\n",
    "\n",
    "On the transmission, im going to extract if the car have Manual, aumatic or CVT."
   ]
  },
  {
   "cell_type": "code",
   "execution_count": 10,
   "metadata": {},
   "outputs": [],
   "source": [
    "def set_transmission() -> pl.Expr:\n",
    "    return (\n",
    "        pl\n",
    "        .when(pl.col(\"transmission\").str.contains(\"Automatic\")).then(pl.lit(\"Automatic\"))\n",
    "        .when(pl.col(\"transmission\").str.contains(\"Manual\")).then(pl.lit(\"Manual\"))\n",
    "        .when(pl.col(\"transmission\").str.contains(\"A/T\")).then(pl.lit(\"Automatic\"))\n",
    "        .when(pl.col(\"transmission\").str.contains(\"AT\")).then(pl.lit(\"Automatic\"))\n",
    "        .when(pl.col(\"transmission\").str.contains(\"Mt\")).then(pl.lit(\"Manual\"))\n",
    "        .when(pl.col(\"transmission\").str.contains(\"CVT\")).then(pl.lit(\"CVT\"))\n",
    "        .alias(\"Transmission_processed\")\n",
    "    )"
   ]
  },
  {
   "cell_type": "code",
   "execution_count": 11,
   "metadata": {},
   "outputs": [],
   "source": [
    "def fill_transmission() -> pl.Expr:\n",
    "    return (\n",
    "    pl.col(\"Transmission_processed\").fill_null(pl.col(\"Transmission_processed\").mode().first().over([\"brand\", \"model_year\"])).fill_null(pl.lit(\"Manual\"))\n",
    "    )"
   ]
  },
  {
   "cell_type": "markdown",
   "metadata": {},
   "source": [
    "<div style=\"border-radius:10px; padding: 15px; font-size:100%; text-align:left\">\n",
    "<h3 align=\"left\"><font color=#ff6200>Accident</font></h3>\n",
    "</div>\n",
    "\n",
    "I will convert the data from string to numeric. Additionally, I will assume that every null value indicates no accident, though this may not apply in all cases.\""
   ]
  },
  {
   "cell_type": "code",
   "execution_count": 12,
   "metadata": {},
   "outputs": [],
   "source": [
    "def set_accident() -> pl.Expr:\n",
    "    return (\n",
    "        pl\n",
    "        .when(pl.col(\"accident\") == \"None reported\").then(0)\n",
    "        .when(pl.col(\"accident\") == \"At least 1 accident or damage\").then(1)\n",
    "        .otherwise(0)\n",
    "        .alias(\"accident\")\n",
    "    )"
   ]
  },
  {
   "cell_type": "markdown",
   "metadata": {},
   "source": [
    "<div style=\"border-radius:10px; padding: 15px; font-size:100%; text-align:left\">\n",
    "<h3 align=\"left\"><font color=#ff6200>Clean Tittle</font></h3>\n",
    "Clean Tittle only have Yes and Null values, so im going to fill the nulls with \"No\"\n",
    "</div>"
   ]
  },
  {
   "cell_type": "code",
   "execution_count": 13,
   "metadata": {},
   "outputs": [],
   "source": [
    "def set_clean_title() -> pl.Expr:\n",
    "    return (\n",
    "        pl.col(\"clean_title\").fill_null(pl.lit(\"No\")).str.replace(\"Yes\",1).str.replace(\"No\",0).cast(pl.Int8)\n",
    "    )"
   ]
  },
  {
   "cell_type": "markdown",
   "metadata": {},
   "source": [
    "<div style=\"border-radius:10px; padding: 15px; font-size:100%; text-align:left\">\n",
    "<h2 align=\"left\"><font color=#ff6200>Numeric Variables</font></h2>\n",
    "</div>"
   ]
  },
  {
   "cell_type": "code",
   "execution_count": 14,
   "metadata": {},
   "outputs": [
    {
     "data": {
      "text/html": [
       "<div><style>\n",
       ".dataframe > thead > tr,\n",
       ".dataframe > tbody > tr {\n",
       "  text-align: right;\n",
       "  white-space: pre-wrap;\n",
       "}\n",
       "</style>\n",
       "<small>shape: (5, 4)</small><table border=\"1\" class=\"dataframe\"><thead><tr><th>id</th><th>model_year</th><th>milage</th><th>price</th></tr><tr><td>i64</td><td>i64</td><td>i64</td><td>i64</td></tr></thead><tbody><tr><td>0</td><td>2007</td><td>213000</td><td>4200</td></tr><tr><td>1</td><td>2002</td><td>143250</td><td>4999</td></tr><tr><td>2</td><td>2002</td><td>136731</td><td>13900</td></tr><tr><td>3</td><td>2017</td><td>19500</td><td>45000</td></tr><tr><td>4</td><td>2021</td><td>7388</td><td>97500</td></tr></tbody></table></div>"
      ],
      "text/plain": [
       "shape: (5, 4)\n",
       "┌─────┬────────────┬────────┬───────┐\n",
       "│ id  ┆ model_year ┆ milage ┆ price │\n",
       "│ --- ┆ ---        ┆ ---    ┆ ---   │\n",
       "│ i64 ┆ i64        ┆ i64    ┆ i64   │\n",
       "╞═════╪════════════╪════════╪═══════╡\n",
       "│ 0   ┆ 2007       ┆ 213000 ┆ 4200  │\n",
       "│ 1   ┆ 2002       ┆ 143250 ┆ 4999  │\n",
       "│ 2   ┆ 2002       ┆ 136731 ┆ 13900 │\n",
       "│ 3   ┆ 2017       ┆ 19500  ┆ 45000 │\n",
       "│ 4   ┆ 2021       ┆ 7388   ┆ 97500 │\n",
       "└─────┴────────────┴────────┴───────┘"
      ]
     },
     "execution_count": 14,
     "metadata": {},
     "output_type": "execute_result"
    }
   ],
   "source": [
    "(\n",
    "    df.select(cs.numeric())\n",
    "    .head(5)\n",
    ")"
   ]
  },
  {
   "cell_type": "code",
   "execution_count": 15,
   "metadata": {},
   "outputs": [
    {
     "data": {
      "text/html": [
       "<div><style>\n",
       ".dataframe > thead > tr,\n",
       ".dataframe > tbody > tr {\n",
       "  text-align: right;\n",
       "  white-space: pre-wrap;\n",
       "}\n",
       "</style>\n",
       "<small>shape: (4, 3)</small><table border=\"1\" class=\"dataframe\"><thead><tr><th>column</th><th>Null_Values</th><th>Unique_Values</th></tr><tr><td>str</td><td>f64</td><td>u32</td></tr></thead><tbody><tr><td>&quot;model_year&quot;</td><td>0.0</td><td>34</td></tr><tr><td>&quot;milage&quot;</td><td>0.0</td><td>6651</td></tr><tr><td>&quot;id&quot;</td><td>0.0</td><td>188533</td></tr><tr><td>&quot;price&quot;</td><td>0.0</td><td>1569</td></tr></tbody></table></div>"
      ],
      "text/plain": [
       "shape: (4, 3)\n",
       "┌────────────┬─────────────┬───────────────┐\n",
       "│ column     ┆ Null_Values ┆ Unique_Values │\n",
       "│ ---        ┆ ---         ┆ ---           │\n",
       "│ str        ┆ f64         ┆ u32           │\n",
       "╞════════════╪═════════════╪═══════════════╡\n",
       "│ model_year ┆ 0.0         ┆ 34            │\n",
       "│ milage     ┆ 0.0         ┆ 6651          │\n",
       "│ id         ┆ 0.0         ┆ 188533        │\n",
       "│ price      ┆ 0.0         ┆ 1569          │\n",
       "└────────────┴─────────────┴───────────────┘"
      ]
     },
     "execution_count": 15,
     "metadata": {},
     "output_type": "execute_result"
    }
   ],
   "source": [
    "(\n",
    "    df\n",
    "    .select(cs.numeric())\n",
    "    .unpivot(variable_name=\"column\")\n",
    "    .group_by(\"column\")\n",
    "    .agg(\n",
    "        Null_Values = (pl.col.value.is_null().sum() / pl.col.value.len()) * 100,\n",
    "        Unique_Values = (pl.col.value.n_unique())\n",
    "    )\n",
    ")"
   ]
  },
  {
   "cell_type": "markdown",
   "metadata": {},
   "source": [
    "<div style=\"border-radius: 15px; padding: 20px; background-color: #ffeacc; font-size: 100%; text-align: left; border: 2px solid #ff6200; box-shadow: 0 4px 8px rgba(0, 0, 0, 0.1);\">\n",
    "    <h2 style=\"font-family: Arial, sans-serif; color: #ff6200; margin-bottom: 10px;\">Numeric Variables</h2>\n",
    "    <ul style=\"font-family: Arial, sans-serif; line-height: 1.8; color: #333; padding-left: 20px;\">\n",
    "        <li><strong>Missing Values:</strong> No missing data for numeric variables.</li>\n",
    "        <li><strong>ID:</strong> No changes needed, as it serves as a unique identifier.</li>\n",
    "        <li><strong>Price:</strong> The target variable. We'll assume the prices are correct.</li>\n",
    "        <li><strong>Mileage:</strong> Typically, higher mileage results in a lower price.</li>\n",
    "        <li><strong>Model Year:</strong> I will create a feature to account for older vehicles. If a vehicle is very old, it might be considered a classic rather than just an old car.</li>\n",
    "    </ul>\n",
    "</div>\n"
   ]
  },
  {
   "cell_type": "code",
   "execution_count": 16,
   "metadata": {},
   "outputs": [],
   "source": [
    "def categorize_year() -> pl.Expr:\n",
    "    return (\n",
    "        pl\n",
    "        .when((pl.col(\"model_year\") > 1970) & (pl.col(\"model_year\") <= 1980)).then(1)\n",
    "        .when((pl.col(\"model_year\") > 1981) & (pl.col(\"model_year\") <= 1990)).then(2) \n",
    "        .when((pl.col(\"model_year\") > 1991) & (pl.col(\"model_year\") <= 2000)).then(3) \n",
    "        .when((pl.col(\"model_year\") > 2001) & (pl.col(\"model_year\") <= 2010)).then(4)\n",
    "        .when((pl.col(\"model_year\") > 2010) & (pl.col(\"model_year\") <= 2020)).then(5)  \n",
    "        .otherwise(6)\n",
    "        .alias(\"model_year\") \n",
    "    )"
   ]
  },
  {
   "cell_type": "code",
   "execution_count": 17,
   "metadata": {},
   "outputs": [],
   "source": [
    "def add_year() -> pl.Expr:\n",
    "    return (\n",
    "        (2024 - pl.col(\"model_year\")).alias(\"Years\")\n",
    "    )"
   ]
  },
  {
   "cell_type": "markdown",
   "metadata": {},
   "source": [
    "<div style=\"border-radius:10px; padding: 15px; font-size:100%; text-align:left\">\n",
    "<h2 align=\"left\"><font color=#ff6200>Apply Functions</font></h2>\n",
    "Lets Apply all the functions together!\n",
    "</div>"
   ]
  },
  {
   "cell_type": "code",
   "execution_count": 18,
   "metadata": {},
   "outputs": [],
   "source": [
    "df_with_functions = (\n",
    "    df\n",
    "    # String Functions\n",
    "\n",
    "    .with_columns(set_brand(pl.col(\"brand\")).alias(\"Brand Type\"))\n",
    "    .with_columns(set_fuel_type(pl.col(\"fuel_type\")).alias(\"Fuel Type\"))\n",
    "    .with_columns(pl.col(\"engine\").str.replace(r'\\sLiter', \"L\")) # Fix the litter before aplying the engine\n",
    "    .with_columns(get_engine())\n",
    "    .with_columns(get_colors_features())\n",
    "    .with_columns(is_special_color())\n",
    "    .with_columns(set_transmission())\n",
    "    .with_columns(fill_transmission())\n",
    "    .with_columns(set_accident())\n",
    "    .with_columns(set_clean_title())\n",
    "\n",
    "    # Numeric Functions\n",
    "    .with_columns(categorize_year())\n",
    "    .with_columns(add_year())\n",
    "\n",
    ")"
   ]
  },
  {
   "cell_type": "markdown",
   "metadata": {},
   "source": [
    "<div style=\"border-radius:10px; padding: 15px; font-size:100%; text-align:left\">\n",
    "<h2 align=\"left\"><font color=#ff6200>Dealing With Nulls</font></h2>\n",
    "Going to fill the null with the mode, over the brand and model year.\n",
    "</div>"
   ]
  },
  {
   "cell_type": "code",
   "execution_count": 19,
   "metadata": {},
   "outputs": [],
   "source": [
    "df_filled = (\n",
    "    df_with_functions\n",
    "    .with_columns(\n",
    "        pl.col(\"HP\").fill_null(pl.col(\"HP\").mode().first().over([\"brand\", \"model_year\"])).fill_null(pl.col(\"HP\").mean()),\n",
    "        pl.col(\"Displacement\").fill_null(pl.col(\"Displacement\").mode().first().over([\"brand\", \"model_year\"])).fill_null(pl.col(\"Displacement\").mean()),\n",
    "        pl.col(\"fuel_type\").fill_null(pl.col(\"fuel_type\").mode().first().over([\"brand\", \"model_year\"])).fill_null(pl.col(\"fuel_type\").mode()),\n",
    "        pl.col(\"Cylinder\").fill_null(pl.col(\"Cylinder\").mode().first().over([\"brand\", \"model_year\"])).fill_null(pl.col(\"Cylinder\").mode())\n",
    "    )\n",
    ")\n"
   ]
  },
  {
   "cell_type": "markdown",
   "metadata": {},
   "source": [
    "<div style=\"border-radius:10px; padding: 15px; font-size:100%; text-align:left\">\n",
    "<h2 align=\"left\"><font color=#ff6200>Selecting and processing the columns</font></h2>\n",
    "Going to remove the columns that are already processes, and exclude the model and the brand.\n",
    "</div>"
   ]
  },
  {
   "cell_type": "code",
   "execution_count": 20,
   "metadata": {},
   "outputs": [],
   "source": [
    "df_to_process = (\n",
    "    df_filled\n",
    "    .select(pl.all().exclude([\"model\",\"brand\", \"fuel_type\",\"engine\",\"ext_col\", \"int_col\", \"transmission\"]))\n",
    ")"
   ]
  },
  {
   "cell_type": "code",
   "execution_count": 21,
   "metadata": {},
   "outputs": [],
   "source": [
    "ext_color_enconder = LabelEncoder()\n",
    "int_color_enconder = LabelEncoder()\n",
    "transmission_encoder = LabelEncoder()\n",
    "\n",
    "\n",
    "df_processed = (\n",
    "    df_to_process\n",
    "    .with_columns(\n",
    "        pl.col(\"ext_color_f\").map_batches(ext_color_enconder.fit_transform).alias(\"ext_color_f_encoded\"),\n",
    "        pl.col(\"int_col_f\").map_batches(int_color_enconder.fit_transform).alias(\"int_col_f_encoded\"),\n",
    "        pl.col(\"Transmission_processed\").map_batches(transmission_encoder.fit_transform).alias(\"Transmission_processed_encoded\"),\n",
    "        pl.col(\"Electric\").cast(pl.Int8)\n",
    "    )\n",
    "    .select(\n",
    "        pl.all().exclude([\"ext_color_f\",\"int_col_f\",\"Transmission_processed\"])\n",
    "    )\n",
    ")"
   ]
  },
  {
   "cell_type": "markdown",
   "metadata": {},
   "source": [
    "<div style=\"border-radius:10px; padding: 15px; font-size:100%; text-align:left\">\n",
    "<h2 align=\"left\"><font color=#ff6200>Machine learning</font></h2>\n",
    "The part you were expecting, let try some model to predict the price\n",
    "</div>"
   ]
  },
  {
   "cell_type": "code",
   "execution_count": 22,
   "metadata": {},
   "outputs": [
    {
     "name": "stdout",
     "output_type": "stream",
     "text": [
      "RMSE: 63772.01652505908\n"
     ]
    },
    {
     "name": "stderr",
     "output_type": "stream",
     "text": [
      "c:\\Users\\Arancium\\Proyectos\\env\\Lib\\site-packages\\sklearn\\metrics\\_regression.py:492: FutureWarning: 'squared' is deprecated in version 1.4 and will be removed in 1.6. To calculate the root mean squared error, use the function'root_mean_squared_error'.\n",
      "  warnings.warn(\n"
     ]
    }
   ],
   "source": [
    "model = xgb.XGBRegressor()\n",
    "\n",
    "model.fit(\n",
    "    X = df_processed.select(pl.all().exclude([\"id\", \"price\"])),\n",
    "    y = df_processed[\"price\"])\n",
    "\n",
    "# Make predictions\n",
    "predictions = model.predict(df_processed.select(pl.all().exclude([\"id\", \"price\"])))\n",
    "\n",
    "# Calculate RMSE\n",
    "rmse = mean_squared_error(y_true=df_processed[\"price\"], y_pred=predictions, squared=False)\n",
    "print(f\"RMSE: {rmse}\")\n",
    "\n",
    "# Add the predictions to the original DataFrame\n",
    "predictions_df = pl.DataFrame({\"pos\": predictions})\n",
    "result_df = pl.concat([df_processed, predictions_df], how=\"horizontal\")"
   ]
  },
  {
   "cell_type": "code",
   "execution_count": 23,
   "metadata": {},
   "outputs": [
    {
     "data": {
      "text/html": [
       "<div><style>\n",
       ".dataframe > thead > tr,\n",
       ".dataframe > tbody > tr {\n",
       "  text-align: right;\n",
       "  white-space: pre-wrap;\n",
       "}\n",
       "</style>\n",
       "<small>shape: (188_533, 18)</small><table border=\"1\" class=\"dataframe\"><thead><tr><th>id</th><th>model_year</th><th>milage</th><th>accident</th><th>clean_title</th><th>price</th><th>Brand Type</th><th>Fuel Type</th><th>HP</th><th>Displacement</th><th>Cylinder</th><th>Electric</th><th>Special ext Color</th><th>Years</th><th>ext_color_f_encoded</th><th>int_col_f_encoded</th><th>Transmission_processed_encoded</th><th>pos</th></tr><tr><td>i64</td><td>i32</td><td>i64</td><td>i32</td><td>i8</td><td>i64</td><td>i32</td><td>i32</td><td>f64</td><td>f32</td><td>i64</td><td>i8</td><td>i32</td><td>i32</td><td>i64</td><td>i64</td><td>i64</td><td>f32</td></tr></thead><tbody><tr><td>0</td><td>4</td><td>213000</td><td>0</td><td>1</td><td>4200</td><td>2</td><td>1</td><td>172.0</td><td>1.6</td><td>4</td><td>0</td><td>0</td><td>2020</td><td>12</td><td>4</td><td>0</td><td>6988.742676</td></tr><tr><td>1</td><td>4</td><td>143250</td><td>0</td><td>1</td><td>4999</td><td>2</td><td>1</td><td>252.0</td><td>3.9</td><td>8</td><td>0</td><td>0</td><td>2020</td><td>10</td><td>0</td><td>0</td><td>12823.620117</td></tr><tr><td>2</td><td>4</td><td>136731</td><td>0</td><td>1</td><td>13900</td><td>1</td><td>1</td><td>320.0</td><td>5.3</td><td>8</td><td>0</td><td>0</td><td>2020</td><td>2</td><td>4</td><td>0</td><td>11612.020508</td></tr><tr><td>3</td><td>5</td><td>19500</td><td>0</td><td>1</td><td>45000</td><td>2</td><td>1</td><td>420.0</td><td>5.0</td><td>8</td><td>0</td><td>0</td><td>2019</td><td>1</td><td>1</td><td>0</td><td>68928.945312</td></tr><tr><td>4</td><td>6</td><td>7388</td><td>0</td><td>1</td><td>97500</td><td>2</td><td>1</td><td>208.0</td><td>2.0</td><td>4</td><td>0</td><td>0</td><td>2018</td><td>1</td><td>0</td><td>0</td><td>77681.320312</td></tr><tr><td>&hellip;</td><td>&hellip;</td><td>&hellip;</td><td>&hellip;</td><td>&hellip;</td><td>&hellip;</td><td>&hellip;</td><td>&hellip;</td><td>&hellip;</td><td>&hellip;</td><td>&hellip;</td><td>&hellip;</td><td>&hellip;</td><td>&hellip;</td><td>&hellip;</td><td>&hellip;</td><td>&hellip;</td><td>&hellip;</td></tr><tr><td>188528</td><td>5</td><td>49000</td><td>0</td><td>1</td><td>27500</td><td>2</td><td>1</td><td>420.0</td><td>6.2</td><td>8</td><td>0</td><td>0</td><td>2019</td><td>11</td><td>0</td><td>0</td><td>46424.316406</td></tr><tr><td>188529</td><td>5</td><td>28600</td><td>0</td><td>1</td><td>30000</td><td>2</td><td>1</td><td>385.0</td><td>3.0</td><td>6</td><td>0</td><td>0</td><td>2019</td><td>11</td><td>1</td><td>0</td><td>61110.089844</td></tr><tr><td>188530</td><td>6</td><td>13650</td><td>0</td><td>1</td><td>86900</td><td>2</td><td>1</td><td>469.0</td><td>4.0</td><td>8</td><td>0</td><td>0</td><td>2018</td><td>11</td><td>1</td><td>0</td><td>97781.546875</td></tr><tr><td>188531</td><td>6</td><td>13895</td><td>0</td><td>0</td><td>84900</td><td>2</td><td>1</td><td>343.263856</td><td>3.0</td><td>6</td><td>0</td><td>1</td><td>2018</td><td>4</td><td>1</td><td>0</td><td>75618.3125</td></tr><tr><td>188532</td><td>5</td><td>59500</td><td>0</td><td>1</td><td>28995</td><td>2</td><td>1</td><td>252.0</td><td>2.0</td><td>4</td><td>0</td><td>0</td><td>2019</td><td>11</td><td>1</td><td>0</td><td>27917.207031</td></tr></tbody></table></div>"
      ],
      "text/plain": [
       "shape: (188_533, 18)\n",
       "┌────────┬────────────┬────────┬──────────┬───┬─────────────┬────────────┬────────────┬────────────┐\n",
       "│ id     ┆ model_year ┆ milage ┆ accident ┆ … ┆ ext_color_f ┆ int_col_f_ ┆ Transmissi ┆ pos        │\n",
       "│ ---    ┆ ---        ┆ ---    ┆ ---      ┆   ┆ _encoded    ┆ encoded    ┆ on_process ┆ ---        │\n",
       "│ i64    ┆ i32        ┆ i64    ┆ i32      ┆   ┆ ---         ┆ ---        ┆ ed_encoded ┆ f32        │\n",
       "│        ┆            ┆        ┆          ┆   ┆ i64         ┆ i64        ┆ ---        ┆            │\n",
       "│        ┆            ┆        ┆          ┆   ┆             ┆            ┆ i64        ┆            │\n",
       "╞════════╪════════════╪════════╪══════════╪═══╪═════════════╪════════════╪════════════╪════════════╡\n",
       "│ 0      ┆ 4          ┆ 213000 ┆ 0        ┆ … ┆ 12          ┆ 4          ┆ 0          ┆ 6988.74267 │\n",
       "│        ┆            ┆        ┆          ┆   ┆             ┆            ┆            ┆ 6          │\n",
       "│ 1      ┆ 4          ┆ 143250 ┆ 0        ┆ … ┆ 10          ┆ 0          ┆ 0          ┆ 12823.6201 │\n",
       "│        ┆            ┆        ┆          ┆   ┆             ┆            ┆            ┆ 17         │\n",
       "│ 2      ┆ 4          ┆ 136731 ┆ 0        ┆ … ┆ 2           ┆ 4          ┆ 0          ┆ 11612.0205 │\n",
       "│        ┆            ┆        ┆          ┆   ┆             ┆            ┆            ┆ 08         │\n",
       "│ 3      ┆ 5          ┆ 19500  ┆ 0        ┆ … ┆ 1           ┆ 1          ┆ 0          ┆ 68928.9453 │\n",
       "│        ┆            ┆        ┆          ┆   ┆             ┆            ┆            ┆ 12         │\n",
       "│ 4      ┆ 6          ┆ 7388   ┆ 0        ┆ … ┆ 1           ┆ 0          ┆ 0          ┆ 77681.3203 │\n",
       "│        ┆            ┆        ┆          ┆   ┆             ┆            ┆            ┆ 12         │\n",
       "│ …      ┆ …          ┆ …      ┆ …        ┆ … ┆ …           ┆ …          ┆ …          ┆ …          │\n",
       "│ 188528 ┆ 5          ┆ 49000  ┆ 0        ┆ … ┆ 11          ┆ 0          ┆ 0          ┆ 46424.3164 │\n",
       "│        ┆            ┆        ┆          ┆   ┆             ┆            ┆            ┆ 06         │\n",
       "│ 188529 ┆ 5          ┆ 28600  ┆ 0        ┆ … ┆ 11          ┆ 1          ┆ 0          ┆ 61110.0898 │\n",
       "│        ┆            ┆        ┆          ┆   ┆             ┆            ┆            ┆ 44         │\n",
       "│ 188530 ┆ 6          ┆ 13650  ┆ 0        ┆ … ┆ 11          ┆ 1          ┆ 0          ┆ 97781.5468 │\n",
       "│        ┆            ┆        ┆          ┆   ┆             ┆            ┆            ┆ 75         │\n",
       "│ 188531 ┆ 6          ┆ 13895  ┆ 0        ┆ … ┆ 4           ┆ 1          ┆ 0          ┆ 75618.3125 │\n",
       "│ 188532 ┆ 5          ┆ 59500  ┆ 0        ┆ … ┆ 11          ┆ 1          ┆ 0          ┆ 27917.2070 │\n",
       "│        ┆            ┆        ┆          ┆   ┆             ┆            ┆            ┆ 31         │\n",
       "└────────┴────────────┴────────┴──────────┴───┴─────────────┴────────────┴────────────┴────────────┘"
      ]
     },
     "execution_count": 23,
     "metadata": {},
     "output_type": "execute_result"
    }
   ],
   "source": [
    "result_df"
   ]
  },
  {
   "cell_type": "code",
   "execution_count": 24,
   "metadata": {},
   "outputs": [],
   "source": [
    "data_test = (pl.read_csv(\"test.csv\"))"
   ]
  },
  {
   "cell_type": "code",
   "execution_count": 25,
   "metadata": {},
   "outputs": [],
   "source": [
    "df_test_processed  = (\n",
    "    data_test\n",
    "    # String Functions\n",
    "\n",
    "    .with_columns(set_brand(pl.col(\"brand\")).alias(\"Brand Type\"))\n",
    "    .with_columns(set_fuel_type(pl.col(\"fuel_type\")).alias(\"Fuel Type\"))\n",
    "    .with_columns(pl.col(\"engine\").str.replace(r'\\sLiter', \"L\")) # Fix the litter before aplying the engine\n",
    "    .with_columns(get_engine())\n",
    "    .with_columns(get_colors_features())\n",
    "    .with_columns(is_special_color())\n",
    "    .with_columns(set_transmission())\n",
    "    .with_columns(fill_transmission())\n",
    "    .with_columns(set_accident())\n",
    "    .with_columns(set_clean_title())\n",
    "\n",
    "    # Numeric Functions\n",
    "    .with_columns(categorize_year())\n",
    "    .with_columns(add_year())\n",
    "\n",
    "    \n",
    "    .with_columns(\n",
    "        pl.col(\"HP\").fill_null(df_processed.select(pl.col(\"HP\").mean())),\n",
    "        pl.col(\"Displacement\").fill_null(df_processed.select(pl.col(\"Displacement\").mean())),\n",
    "        pl.col(\"Fuel Type\").fill_null(df_processed.select(pl.col(\"Fuel Type\").mean())),\n",
    "        pl.col(\"Cylinder\").fill_null(df_processed.select(pl.col(\"Cylinder\").mean()))\n",
    "    )\n",
    "\n",
    "    .select(pl.all().exclude([\"model\",\"brand\", \"fuel_type\",\"engine\",\"ext_col\", \"int_col\", \"transmission\"]))\n",
    "    .with_columns(\n",
    "        pl.col(\"ext_color_f\").map_batches(ext_color_enconder.transform).alias(\"ext_color_f_encoded\"),\n",
    "        pl.col(\"int_col_f\").map_batches(int_color_enconder.transform).alias(\"int_col_f_encoded\"),\n",
    "        pl.col(\"Transmission_processed\").map_batches(transmission_encoder.transform).alias(\"Transmission_processed_encoded\"),\n",
    "        pl.col(\"Electric\").cast(pl.Int8)\n",
    "    )\n",
    "    .select(\n",
    "        pl.all().exclude([\"ext_color_f\",\"int_col_f\",\"Transmission_processed\"])\n",
    "    )\n",
    "    \n",
    ")"
   ]
  },
  {
   "cell_type": "code",
   "execution_count": 26,
   "metadata": {},
   "outputs": [],
   "source": [
    "predictions_test = model.predict(df_test_processed.select(pl.all().exclude([\"id\", \"price\"])))\n",
    "predictions_df = pl.DataFrame({\"price\": predictions_test})\n",
    "\n",
    "result_df = pl.concat([df_test_processed, predictions_df], how=\"horizontal\")\n",
    "\n",
    "(\n",
    "    result_df\n",
    "    .select(\n",
    "        pl.col(\"id\"),\n",
    "        pl.col(\"price\")\n",
    "    )\n",
    "    .write_csv(\"submission.csv\")\n",
    ")"
   ]
  },
  {
   "cell_type": "markdown",
   "metadata": {},
   "source": [
    "<div style=\"border-radius: 15px; padding: 20px; background-color: #ffeacc; font-size: 100%; text-align: left; border: 2px solid #ff6200; box-shadow: 0 4px 8px rgba(0, 0, 0, 0.1);\"> <h2 style=\"font-family: Arial, sans-serif; color: #ff6200; margin-bottom: 10px;\">Next Steps</h2> <ul style=\"font-family: Arial, sans-serif; line-height: 1.8; color: #333; padding-left: 20px;\"> <li>Experiment with a wider range of machine learning models to improve performance.</li> <li>Utilize cross-validation with GridSearchCV for hyperparameter tuning.</li> <li>Implement ensemble learning techniques to combine multiple models.</li> <li>Explore alternative data preprocessing methods to enhance data quality.</li> </ul>\n",
    "</div>\n",
    "Thanks everyone for reading the Kernel! "
   ]
  }
 ],
 "metadata": {
  "kernelspec": {
   "display_name": ".venv",
   "language": "python",
   "name": "python3"
  },
  "language_info": {
   "codemirror_mode": {
    "name": "ipython",
    "version": 3
   },
   "file_extension": ".py",
   "mimetype": "text/x-python",
   "name": "python",
   "nbconvert_exporter": "python",
   "pygments_lexer": "ipython3",
   "version": "3.12.6"
  }
 },
 "nbformat": 4,
 "nbformat_minor": 2
}
